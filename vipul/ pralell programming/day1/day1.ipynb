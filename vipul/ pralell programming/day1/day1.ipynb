{
 "cells": [
  {
   "cell_type": "code",
   "execution_count": 6,
   "id": "45e22e19-5db9-4459-8889-8a89c0ff2e80",
   "metadata": {},
   "outputs": [
    {
     "name": "stdout",
     "output_type": "stream",
     "text": [
      "Time taken: 0.228 secs\n"
     ]
    }
   ],
   "source": [
    "import multiprocessing as mp\n",
    "from time import sleep, perf_counter\n",
    "from os import getpid\n",
    "\n",
    "def do_some_job():\n",
    "    print(f'job started...{getpid()}')\n",
    "    sleep(1)\n",
    "    print(f'job completed...')\n",
    "    print('*' * 40)\n",
    "    \n",
    "if __name__ == '__main__':\n",
    "    start = perf_counter()\n",
    "    pObj = mp.Process(target=do_some_job)\n",
    "    pObj.start()\n",
    "    \n",
    "    pObj.join()\n",
    "    \n",
    "    end = perf_counter()\n",
    "    \n",
    "    print(f'Time taken: {round(end-start, 3)} secs')\n"
   ]
  },
  {
   "cell_type": "code",
   "execution_count": 12,
   "id": "371f5f8c-f370-4d06-adf6-4b0c47d661a6",
   "metadata": {},
   "outputs": [
    {
     "name": "stdout",
     "output_type": "stream",
     "text": [
      "Time taken: 0.204 secs\n"
     ]
    }
   ],
   "source": [
    "import multiprocessing as mp\n",
    "from time import sleep, perf_counter\n",
    "from os import getpid\n",
    "\n",
    "def do_some_job():\n",
    "    print(f'job started...{getpid()}')\n",
    "    sleep(1)\n",
    "    print(f'job completed...')\n",
    "    print('*' * 40)\n",
    "    \n",
    "if __name__ == '__main__':\n",
    "    start = perf_counter()\n",
    "    list_Objs = []\n",
    "    for _ in range(3):\n",
    "        pObj = mp.Process(target=do_some_job)\n",
    "        list_Objs.append(pObj)\n",
    "    \n",
    "    for each in list_Objs:\n",
    "        each.start()\n",
    "        \n",
    "    for one in list_Objs:\n",
    "        one.join()\n",
    "    \n",
    "    end = perf_counter()\n",
    "    \n",
    "    print(f'Time taken: {round(end-start, 3)} secs')\n"
   ]
  },
  {
   "cell_type": "code",
   "execution_count": null,
   "id": "3e277aa1-581a-47a3-8b65-e68c0c951570",
   "metadata": {},
   "outputs": [],
   "source": []
  }
 ],
 "metadata": {
  "kernelspec": {
   "display_name": "Python 3 (ipykernel)",
   "language": "python",
   "name": "python3"
  },
  "language_info": {
   "codemirror_mode": {
    "name": "ipython",
    "version": 3
   },
   "file_extension": ".py",
   "mimetype": "text/x-python",
   "name": "python",
   "nbconvert_exporter": "python",
   "pygments_lexer": "ipython3",
   "version": "3.9.13"
  }
 },
 "nbformat": 4,
 "nbformat_minor": 5
}
