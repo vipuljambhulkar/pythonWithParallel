{
 "cells": [
  {
   "cell_type": "markdown",
   "id": "b0e48fc0-6c11-459b-88aa-cabdb4dd8599",
   "metadata": {},
   "source": [
    "commad -->\\\n",
    "\n",
    "ls-l | more -5\n",
    "ls -l --> cooomand #1 --> process #1\n",
    "    --> writes into the pipe(|)\n",
    "more -5 --> coomamnd #2 --> processs #2\n",
    "    --> takes/read from the pipe(|)\n",
    "    \n",
    "  in multiprocess module , there is class called Pipe"
   ]
  },
  {
   "cell_type": "code",
   "execution_count": 2,
   "id": "2111ace7-65bb-4c70-9afe-975f8188c1a6",
   "metadata": {},
   "outputs": [
    {
     "name": "stdout",
     "output_type": "stream",
     "text": [
      "main/parent process here 6724\n",
      "Recieved... <bound method _ConnectionBase.recv of <multiprocessing.connection.PipeConnection object at 0x000000C384027DC0>>\n"
     ]
    }
   ],
   "source": [
    "from os import getpid\n",
    "from multiprocessing import Process, Pipe\n",
    "\n",
    "def childprocess(mypipeWrite):\n",
    "    mypipeWrite.send([1001,\"some name here\",95484.511])\n",
    "    print (f'writing into the pipe done --> {getpid()}')\n",
    "    mypipeWrite.close()\n",
    "    \n",
    "if __name__ == '__main__':\n",
    "    print(f'main/parent process here {getpid()}')\n",
    "    \n",
    "    pRead,pWrite =Pipe()\n",
    "    \n",
    "    pObj = Process(target = childprocess, args=(pWrite, ))\n",
    "    pObj.start()\n",
    "    \n",
    "    print(f'Recieved... {pRead.recv}')\n",
    "    pObj.join() # wait for chiled procces complete"
   ]
  },
  {
   "cell_type": "code",
   "execution_count": 6,
   "id": "10d1c44e-c385-4d92-998a-655e530a44d9",
   "metadata": {},
   "outputs": [
    {
     "name": "stdout",
     "output_type": "stream",
     "text": [
      "XXXXXXXXXXOOOOOOOOOO"
     ]
    }
   ],
   "source": [
    "from threading import Thread\n",
    "import numpy as np\n",
    "def  doSomeJob():\n",
    "    #while true:\n",
    "    for _ in range(10):\n",
    "        print('X',end='')\n",
    "        \n",
    "if __name__ =='__main__': #main thread\n",
    "    tObj = Thread(target = doSomeJob)\n",
    "    tObj.start();\n",
    "    tObj.join()\n",
    "    \n",
    "    for _ in range(10):\n",
    "        print('O',end='')\n",
    "   # tObj.join()\n",
    "    \n",
    "    "
   ]
  },
  {
   "cell_type": "code",
   "execution_count": 10,
   "id": "b2c99ae0-ec25-4075-9f12-f5728850475d",
   "metadata": {},
   "outputs": [
    {
     "name": "stdout",
     "output_type": "stream",
     "text": [
      "XXXXXXXXXXXXXXXXXXXXXXXXXXXXXXXXXXXXXXXXXXXXXXXXXXXXXXXXXXXXXXXXXXXXXXXXXXXXXXXXXXXXXXXXXXXXXXXXXXXXOOOOOOOOOOOOOOOOOOOOOOOOOOOOOOOOOOOOOOOOOOOOOOOOOOOOOOOOOOOOOOOOOOOOOOOOOOOOOOOOOOOOOOOOOOOOOOOOOOOOOOOOOOOOOOOOOOOOOOOOOOOOOOOOOOOOOOOOOOOOOOOOOOOOOOOOOOOOOOOOOOOOOOOOOOOOOOOOOOOOOOOOOOOOOOOOOOOOOOOO"
     ]
    }
   ],
   "source": [
    "from threading import Thread\n",
    "import numpy as np\n",
    "def  doSomeJob(nums):\n",
    "    #while true:\n",
    "    for _ in range(nums):\n",
    "        print('X',end='')\n",
    "        \n",
    "if __name__ =='__main__': #main thread\n",
    "    tObj = Thread(target = doSomeJob , args=(100,))\n",
    "    tObj.start();\n",
    "    tObj.join()\n",
    "    \n",
    "    for _ in range(200):\n",
    "        print('O',end='')\n",
    "   # tObj.join()\n",
    "    \n",
    "    "
   ]
  },
  {
   "cell_type": "code",
   "execution_count": 6,
   "id": "e2aa1012-4c90-4933-a1ad-abbca158c7f4",
   "metadata": {},
   "outputs": [
    {
     "name": "stdout",
     "output_type": "stream",
     "text": [
      "Good args are Passed........ C:\\Users\\corporate\\Anaconda3\\lib\\site-packages\\ipykernel_launcher.py -f C:\\Users\\corporate\\AppData\\Roaming\\jupyter\\runtime\\kernel-ffc96870-e1ca-41fe-824b-437467d651aa.json\n"
     ]
    }
   ],
   "source": [
    "        \n",
    "if __name__ =='__main__': #main thread\n",
    "    from sys import argv\n",
    "    \n",
    "    if len(argv)>1:\n",
    "        print('Good args are Passed........',*argv)\n",
    "    else:\n",
    "        print('Not Good args are not passed')\n",
    "    "
   ]
  },
  {
   "cell_type": "code",
   "execution_count": 12,
   "id": "95695c9b-c8bd-4884-aa4c-3d43e39ebde8",
   "metadata": {},
   "outputs": [
    {
     "name": "stdout",
     "output_type": "stream",
     "text": [
      "Good args are Passed........ C:\\Users\\corporate\\Anaconda3\\lib\\site-packages\\ipykernel_launcher.py -f C:\\Users\\corporate\\AppData\\Roaming\\jupyter\\runtime\\kernel-ffc96870-e1ca-41fe-824b-437467d651aa.json\n"
     ]
    },
    {
     "ename": "ValueError",
     "evalue": "invalid literal for int() with base 10: '-f'",
     "output_type": "error",
     "traceback": [
      "\u001b[1;31m---------------------------------------------------------------------------\u001b[0m",
      "\u001b[1;31mValueError\u001b[0m                                Traceback (most recent call last)",
      "\u001b[1;32m~\\AppData\\Local\\Temp\\ipykernel_1720\\1161939819.py\u001b[0m in \u001b[0;36m<module>\u001b[1;34m\u001b[0m\n\u001b[0;32m      6\u001b[0m         \u001b[0msum\u001b[0m \u001b[1;33m=\u001b[0m \u001b[1;36m0\u001b[0m\u001b[1;33m\u001b[0m\u001b[1;33m\u001b[0m\u001b[0m\n\u001b[0;32m      7\u001b[0m         \u001b[1;32mfor\u001b[0m \u001b[0mi\u001b[0m \u001b[1;32min\u001b[0m \u001b[0margv\u001b[0m\u001b[1;33m[\u001b[0m\u001b[1;36m1\u001b[0m\u001b[1;33m:\u001b[0m\u001b[1;33m]\u001b[0m\u001b[1;33m:\u001b[0m\u001b[1;33m\u001b[0m\u001b[1;33m\u001b[0m\u001b[0m\n\u001b[1;32m----> 8\u001b[1;33m             \u001b[0msum\u001b[0m \u001b[1;33m+=\u001b[0m \u001b[0mint\u001b[0m\u001b[1;33m(\u001b[0m\u001b[0mi\u001b[0m\u001b[1;33m)\u001b[0m\u001b[1;33m\u001b[0m\u001b[1;33m\u001b[0m\u001b[0m\n\u001b[0m\u001b[0;32m      9\u001b[0m         \u001b[0mprint\u001b[0m\u001b[1;33m(\u001b[0m\u001b[1;34m\"sum: \"\u001b[0m\u001b[1;33m,\u001b[0m\u001b[0msum\u001b[0m\u001b[1;33m)\u001b[0m\u001b[1;33m\u001b[0m\u001b[1;33m\u001b[0m\u001b[0m\n\u001b[0;32m     10\u001b[0m     \u001b[1;32melse\u001b[0m\u001b[1;33m:\u001b[0m\u001b[1;33m\u001b[0m\u001b[1;33m\u001b[0m\u001b[0m\n",
      "\u001b[1;31mValueError\u001b[0m: invalid literal for int() with base 10: '-f'"
     ]
    }
   ],
   "source": [
    "if __name__ =='__main__': #main thread\n",
    "    from sys import argv\n",
    "    \n",
    "    if len(argv) > 1:\n",
    "        print('Good args are Passed........', *argv)\n",
    "        sum = 0\n",
    "        for i in argv[1:]:\n",
    "            sum += int(i)\n",
    "        print(\"sum: \",sum)\n",
    "    else:\n",
    "        print('Not Good args are not passed')\n",
    "    "
   ]
  },
  {
   "cell_type": "code",
   "execution_count": null,
   "id": "32d8ec22-1f7c-40cf-93c5-2097f08997a8",
   "metadata": {},
   "outputs": [],
   "source": []
  }
 ],
 "metadata": {
  "kernelspec": {
   "display_name": "Python 3 (ipykernel)",
   "language": "python",
   "name": "python3"
  },
  "language_info": {
   "codemirror_mode": {
    "name": "ipython",
    "version": 3
   },
   "file_extension": ".py",
   "mimetype": "text/x-python",
   "name": "python",
   "nbconvert_exporter": "python",
   "pygments_lexer": "ipython3",
   "version": "3.9.13"
  }
 },
 "nbformat": 4,
 "nbformat_minor": 5
}
