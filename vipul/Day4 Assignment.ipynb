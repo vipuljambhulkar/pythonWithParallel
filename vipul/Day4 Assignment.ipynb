{
 "cells": [
  {
   "cell_type": "code",
   "execution_count": 17,
   "id": "b5d6686f-b090-40f1-99d5-8867bc861087",
   "metadata": {},
   "outputs": [
    {
     "name": "stdout",
     "output_type": "stream",
     "text": [
      "    Product ID   Product Name Category  Price  Quantity\n",
      "0            1           Salt  Grocery   30.0       1.0\n",
      "1            2          Sugar  Grocery   40.0       2.0\n",
      "2            3            Oil  Grocery   50.0       1.0\n",
      "3            4        Vineger  Grocery   80.0       NaN\n",
      "4            5         Carrot     Food    NaN       2.0\n",
      "5            6           Rice     Food   45.0       1.0\n",
      "6            7            Dal     Food   35.0       NaN\n",
      "7            8       Chillies     Food   25.0       1.0\n",
      "8            9        Chicken     Food  300.0       2.0\n",
      "9           10    Cauliflower     Food    NaN       1.0\n",
      "10          11       Beetroot     Food   60.0       1.0\n",
      "11          12          Jeera  Grocery   12.0       1.0\n",
      "12          13  Chilly Powder  Grocery   33.0       1.0\n",
      "13          14           Eggs     Food   70.0      12.0\n",
      "14          15           Fish     Food  250.0       1.0\n",
      "    Product ID   Product Name Category  Price  Quantity\n",
      "0            1           Salt  Grocery   30.0       1.0\n",
      "1            2          Sugar  Grocery   40.0       2.0\n",
      "2            3            Oil  Grocery   50.0       1.0\n",
      "3            4        Vineger  Grocery   80.0       NaN\n",
      "4            5         Carrot     Food    NaN       2.0\n",
      "5            6           Rice     Food   45.0       1.0\n",
      "6            7            Dal     Food   35.0       NaN\n",
      "7            8       Chillies     Food   25.0       1.0\n",
      "8            9        Chicken     Food  300.0       2.0\n",
      "9           10    Cauliflower     Food    NaN       1.0\n",
      "10          11       Beetroot     Food   60.0       1.0\n",
      "11          12          Jeera  Grocery   12.0       1.0\n",
      "12          13  Chilly Powder  Grocery   33.0       1.0\n",
      "13          14           Eggs     Food   70.0      12.0\n",
      "14          15           Fish     Food  250.0       1.0\n",
      "Missing values:\n",
      " Product ID      0\n",
      "Product Name    0\n",
      "Category        0\n",
      "Price           2\n",
      "Quantity        2\n",
      "dtype: int64\n",
      "    Product ID   Product Name Category  Price  Quantity\n",
      "0            1           Salt  Grocery   30.0       1.0\n",
      "1            2          Sugar  Grocery   40.0       2.0\n",
      "2            3            Oil  Grocery   50.0       1.0\n",
      "3            4        Vineger  Grocery   80.0       2.0\n",
      "4            5         Carrot     Food    2.0       2.0\n",
      "5            6           Rice     Food   45.0       1.0\n",
      "6            7            Dal     Food   35.0       2.0\n",
      "7            8       Chillies     Food   25.0       1.0\n",
      "8            9        Chicken     Food  300.0       2.0\n",
      "9           10    Cauliflower     Food    2.0       1.0\n",
      "10          11       Beetroot     Food   60.0       1.0\n",
      "11          12          Jeera  Grocery   12.0       1.0\n",
      "12          13  Chilly Powder  Grocery   33.0       1.0\n",
      "13          14           Eggs     Food   70.0      12.0\n",
      "14          15           Fish     Food  250.0       1.0\n",
      "Total Quantity: 31.0\n",
      "\n",
      "\n",
      "Avg Price: 68.93333333333334\n",
      "\n",
      "\n",
      "Top Selling Product: Eggs\n"
     ]
    }
   ],
   "source": [
    "import pandas as pd\n",
    "df = pd.read_csv('Day4 A.csv')\n",
    "print(df.to_string()) \n",
    "r=pd.DataFrame(df)\n",
    "print(r)\n",
    "missing=df.isnull().sum()\n",
    "print(\"Missing values:\\n\",missing)\n",
    "df.fillna(2,inplace=True)\n",
    "print(df.to_string())\n",
    "Total_Quantity=df[\"Quantity\"].sum()\n",
    "print(\"Total Quantity:\",Total_Quantity)\n",
    "print(\"\\n\")\n",
    "Avg_price=df[\"Price\"].mean()\n",
    "print(\"Avg Price:\",Avg_price)\n",
    "print(\"\\n\")\n",
    "Top_Sell_Prdt=df.loc[df[\"Quantity\"].idxmax(),\"Product Name\"]\n",
    "print(\"Top Selling Product:\",Top_Sell_Prdt)"
   ]
  },
  {
   "cell_type": "code",
   "execution_count": 28,
   "id": "22b07b62-0a0c-4689-9b5e-ef9e79e1fbd1",
   "metadata": {},
   "outputs": [
    {
     "name": "stdout",
     "output_type": "stream",
     "text": [
      "In Display Method\n",
      "No. of wheels 8\n",
      "no. of airbags 2\n",
      "Max. Speed 521\n",
      "Mileage 30\n"
     ]
    }
   ],
   "source": [
    "class vehicle:\n",
    "    def __init__(s, no_of_wheels,no_of_airbags,max_speed, mileage):\n",
    "        s.no_of_wheels=no_of_wheels\n",
    "        s.no_of_airbags=no_of_airbags\n",
    "        s.max_speed=max_speed\n",
    "        s.mileage=mileage\n",
    "        \n",
    "def display(bus):\n",
    "    print(\"In Display Method\")\n",
    "    print(\"No. of wheels\",bus.no_of_wheels)\n",
    "    print(\"no. of airbags\",bus.no_of_airbags)\n",
    "    print(\"Max. Speed\",bus.max_speed)\n",
    "    print(\"Mileage\",bus.mileage)\n",
    "    \n",
    "bus= vehicle(8,2,521,30)\n",
    "display(bus)"
   ]
  }
 ],
 "metadata": {
  "kernelspec": {
   "display_name": "Python 3 (ipykernel)",
   "language": "python",
   "name": "python3"
  },
  "language_info": {
   "codemirror_mode": {
    "name": "ipython",
    "version": 3
   },
   "file_extension": ".py",
   "mimetype": "text/x-python",
   "name": "python",
   "nbconvert_exporter": "python",
   "pygments_lexer": "ipython3",
   "version": "3.9.13"
  }
 },
 "nbformat": 4,
 "nbformat_minor": 5
}
