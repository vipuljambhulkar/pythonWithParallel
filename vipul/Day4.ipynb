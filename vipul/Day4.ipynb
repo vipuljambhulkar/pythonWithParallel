{
 "cells": [
  {
   "cell_type": "code",
   "execution_count": 2,
   "id": "78eb21fb-8fb4-4906-a46d-e5fefa2a70bc",
   "metadata": {},
   "outputs": [
    {
     "name": "stdout",
     "output_type": "stream",
     "text": [
      "0    1\n",
      "1    7\n",
      "2    2\n",
      "dtype: int64\n"
     ]
    }
   ],
   "source": [
    "import pandas as pd\n",
    "a=[1,7,2]\n",
    "my=pd.Series(a)\n",
    "print(my)"
   ]
  },
  {
   "cell_type": "code",
   "execution_count": 7,
   "id": "5ebef990-5647-4d40-b6d5-e6d5f6da2f77",
   "metadata": {},
   "outputs": [
    {
     "name": "stdout",
     "output_type": "stream",
     "text": [
      "    cars  passings\n",
      "0    BMW         1\n",
      "1  Volvo         7\n",
      "2   Ford         2\n"
     ]
    }
   ],
   "source": [
    "import pandas as pd\n",
    "my={\n",
    "'cars':[\"BMW\",\"Volvo\",\"Ford\"],\n",
    "'passings':[1,7,2]\n",
    "}\n",
    "myvar=pd.DataFrame(my)\n",
    "print(myvar)"
   ]
  },
  {
   "cell_type": "code",
   "execution_count": 10,
   "id": "45271465-a0cd-4d3b-ae80-4d25ac580e18",
   "metadata": {},
   "outputs": [
    {
     "name": "stdout",
     "output_type": "stream",
     "text": [
      "day1    420\n",
      "day2    380\n",
      "day3    390\n",
      "dtype: int64\n",
      "380\n"
     ]
    }
   ],
   "source": [
    "import pandas as pd\n",
    "calories={\"day1\":420,\"day2\":380,\"day3\":390}\n",
    "my=pd.Series(calories)\n",
    "print(my)\n",
    "print(my[1])"
   ]
  },
  {
   "cell_type": "code",
   "execution_count": 13,
   "id": "03295364-37ca-427b-ad21-9420c7a2c099",
   "metadata": {},
   "outputs": [
    {
     "name": "stdout",
     "output_type": "stream",
     "text": [
      "   day1  day2\n",
      "0   420    50\n",
      "1   380    30\n",
      "2   390    45\n"
     ]
    }
   ],
   "source": [
    "import pandas as pd\n",
    "c={\n",
    "    \"day1\":[420,380,390],\n",
    "    \"day2\":[50,30,45]\n",
    "}\n",
    "my=pd.DataFrame(c)\n",
    "print(my)\n"
   ]
  },
  {
   "cell_type": "code",
   "execution_count": 16,
   "id": "28b7f2a2-66f5-47de-928a-09c52df158ac",
   "metadata": {},
   "outputs": [
    {
     "name": "stdout",
     "output_type": "stream",
     "text": [
      "day1    380\n",
      "day2     30\n",
      "Name: 1, dtype: int64\n"
     ]
    }
   ],
   "source": [
    "import pandas as pd\n",
    "c={\n",
    "    \"day1\":[420,380,390],\n",
    "    \"day2\":[50,30,45]\n",
    "}\n",
    "my=pd.DataFrame(c)\n",
    "#print(my)\n",
    "print(my.loc[1])"
   ]
  },
  {
   "cell_type": "code",
   "execution_count": 21,
   "id": "390a1218-8a43-4680-b213-246ebcd85c6d",
   "metadata": {},
   "outputs": [
    {
     "name": "stdout",
     "output_type": "stream",
     "text": [
      "   day1  day2\n",
      "1   380    30\n",
      "2   390    45\n"
     ]
    }
   ],
   "source": [
    "import pandas as pd\n",
    "c={\n",
    "    \"day1\":[420,380,390],\n",
    "    \"day2\":[50,30,45]\n",
    "}\n",
    "my=pd.DataFrame(c)\n",
    "#print(my)\n",
    "print(my.loc[[1,2]])"
   ]
  },
  {
   "cell_type": "code",
   "execution_count": 30,
   "id": "6a376530-f8cf-4aa7-96e9-553e39c5f5a1",
   "metadata": {},
   "outputs": [
    {
     "name": "stdout",
     "output_type": "stream",
     "text": [
      "   number    name      date   city\n",
      "0      10     vip   ksjkghd    hyd\n",
      "1      20    taru    ghjshd   bgnr\n",
      "2      30     NaN    Azjhbs   ngpr\n",
      "3      40    saku  jhsdhjck   pune\n",
      "4      50     NaN      smj,    goa\n",
      "5      60    nana   ukhfjkh    NaN\n",
      "6      70    kaka    uirhuf    NaN\n",
      "7      80    mama     m,.ek  delhi\n",
      "8      90    akka       NaN     TN\n",
      "9     100  chilli       NaN    NaN\n",
      "<class 'pandas.core.frame.DataFrame'>\n",
      "RangeIndex: 10 entries, 0 to 9\n",
      "Data columns (total 4 columns):\n",
      " #   Column  Non-Null Count  Dtype \n",
      "---  ------  --------------  ----- \n",
      " 0   number  10 non-null     int64 \n",
      " 1   name    8 non-null      object\n",
      " 2   date    8 non-null      object\n",
      " 3   city    7 non-null      object\n",
      "dtypes: int64(1), object(3)\n",
      "memory usage: 448.0+ bytes\n",
      "None\n",
      "   number  name      date  city\n",
      "0      10   vip   ksjkghd   hyd\n",
      "1      20  taru    ghjshd  bgnr\n",
      "2      30   NaN    Azjhbs  ngpr\n",
      "3      40  saku  jhsdhjck  pune\n",
      "4      50   NaN      smj,   goa\n",
      "   number    name   date   city\n",
      "7      80    mama  m,.ek  delhi\n",
      "8      90    akka    NaN     TN\n",
      "9     100  chilli    NaN    NaN\n"
     ]
    }
   ],
   "source": [
    "import pandas as pd\n",
    "my=pd.read_csv('tru1.csv')\n",
    "print(my.to_string())\n",
    "print(my.info())\n",
    "print(my.head(5))\n",
    "print(my.tail(3))\n"
   ]
  },
  {
   "cell_type": "code",
   "execution_count": 13,
   "id": "2e64c579-cf05-49cf-aa6c-688cbdd975c6",
   "metadata": {},
   "outputs": [
    {
     "name": "stdout",
     "output_type": "stream",
     "text": [
      "[[list([1, 2, 3, 4, 5]) list([4, 5, 6, 7, 5])]\n",
      " [list([8, 6, 7, 9, 4]) list([3, 5, 6, 4, 9])]\n",
      " [list(['P', 'Q', 'R', 'S', 'T', 'U']) list(['a', 'b', 'c', 'd', 'e'])]] \n",
      "3\n"
     ]
    },
    {
     "name": "stderr",
     "output_type": "stream",
     "text": [
      "C:\\Users\\corporate\\AppData\\Local\\Temp\\ipykernel_4984\\547351272.py:6: VisibleDeprecationWarning: Creating an ndarray from ragged nested sequences (which is a list-or-tuple of lists-or-tuples-or ndarrays with different lengths or shapes) is deprecated. If you meant to do this, you must specify 'dtype=object' when creating the ndarray.\n",
      "  arr3=np.array([[[1,2,3,4,5],[4,5,6,7,5]],[[8,6,7,9,4],[3,5,6,4,9]],[[\"P\",\"Q\",\"R\",\"S\",\"T\",\"U\"],[\"a\",\"b\",\"c\",\"d\",\"e\"]]])\n"
     ]
    },
    {
     "ename": "IndexError",
     "evalue": "too many indices for array: array is 2-dimensional, but 3 were indexed",
     "output_type": "error",
     "traceback": [
      "\u001b[1;31m---------------------------------------------------------------------------\u001b[0m",
      "\u001b[1;31mIndexError\u001b[0m                                Traceback (most recent call last)",
      "\u001b[1;32m~\\AppData\\Local\\Temp\\ipykernel_4984\\547351272.py\u001b[0m in \u001b[0;36m<module>\u001b[1;34m\u001b[0m\n\u001b[0;32m     12\u001b[0m \u001b[1;31m# print(arr2.shape)\u001b[0m\u001b[1;33m\u001b[0m\u001b[1;33m\u001b[0m\u001b[0m\n\u001b[0;32m     13\u001b[0m \u001b[0mprint\u001b[0m\u001b[1;33m(\u001b[0m\u001b[0marr2\u001b[0m\u001b[1;33m[\u001b[0m\u001b[1;36m0\u001b[0m\u001b[1;33m,\u001b[0m\u001b[1;36m2\u001b[0m\u001b[1;33m]\u001b[0m\u001b[1;33m)\u001b[0m\u001b[1;33m\u001b[0m\u001b[1;33m\u001b[0m\u001b[0m\n\u001b[1;32m---> 14\u001b[1;33m \u001b[0mprint\u001b[0m\u001b[1;33m(\u001b[0m\u001b[0marr3\u001b[0m\u001b[1;33m[\u001b[0m\u001b[1;36m2\u001b[0m\u001b[1;33m,\u001b[0m\u001b[1;36m0\u001b[0m\u001b[1;33m,\u001b[0m\u001b[1;36m2\u001b[0m\u001b[1;33m]\u001b[0m\u001b[1;33m)\u001b[0m\u001b[1;33m\u001b[0m\u001b[1;33m\u001b[0m\u001b[0m\n\u001b[0m",
      "\u001b[1;31mIndexError\u001b[0m: too many indices for array: array is 2-dimensional, but 3 were indexed"
     ]
    }
   ],
   "source": [
    "import numpy as np\n",
    "\n",
    "arr0=np.array(25)\n",
    "arr=np.array([1,2,3,4,5])\n",
    "arr2=np.array([[1,2,3,4,5],[5,4,3,2,1]])\n",
    "arr3=np.array([[[1,2,3,4,5],[4,5,6,7,5]],[[8,6,7,9,4],[3,5,6,4,9]],[[\"P\",\"Q\",\"R\",\"S\",\"T\",\"U\"],[\"a\",\"b\",\"c\",\"d\",\"e\"]]])\n",
    "# print(arr , end=\" \\n\")\n",
    "# print(arr2, end=\" \\n\")\n",
    "print(arr3, end=\" \\n\")\n",
    "# print(type(arr))\n",
    "# print(arr3.ndim)\n",
    "# print(arr2.shape)\n",
    "print(arr2[0,2])\n",
    "print(arr3[2,0,2])"
   ]
  },
  {
   "cell_type": "code",
   "execution_count": 17,
   "id": "f66d753b-0a37-488c-bbf8-39fbfc2c899d",
   "metadata": {},
   "outputs": [
    {
     "name": "stdout",
     "output_type": "stream",
     "text": [
      "[[['1' '2' '3' '4' '5']\n",
      "  ['4' '5' '6' '7' '5']]\n",
      "\n",
      " [['8' '6' '7' '9' '4']\n",
      "  ['3' '5' '6' '4' '9']]\n",
      "\n",
      " [['P' 'Q' 'R' 'S' 'T']\n",
      "  ['a' 'b' 'c' 'd' 'e']]]\n",
      "R\n"
     ]
    }
   ],
   "source": [
    "import numpy as np\n",
    "\n",
    "arr3=np.array([[[1,2,3,4,5],[4,5,6,7,5]],[[8,6,7,9,4],[3,5,6,4,9]],[[\"P\",\"Q\",\"R\",\"S\",\"T\"],[\"a\",\"b\",\"c\",\"d\",\"e\"]]])\n",
    "\n",
    "print(arr3)\n",
    "\n",
    "print(arr3[2,0,2])"
   ]
  }
 ],
 "metadata": {
  "kernelspec": {
   "display_name": "Python 3 (ipykernel)",
   "language": "python",
   "name": "python3"
  },
  "language_info": {
   "codemirror_mode": {
    "name": "ipython",
    "version": 3
   },
   "file_extension": ".py",
   "mimetype": "text/x-python",
   "name": "python",
   "nbconvert_exporter": "python",
   "pygments_lexer": "ipython3",
   "version": "3.9.13"
  }
 },
 "nbformat": 4,
 "nbformat_minor": 5
}
