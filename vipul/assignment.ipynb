{
 "cells": [
  {
   "cell_type": "code",
   "execution_count": 2,
   "id": "7c63af42-5971-483b-8d6e-c7ed5cd0f4ed",
   "metadata": {},
   "outputs": [
    {
     "name": "stdout",
     "output_type": "stream",
     "text": [
      "hi\n",
      "hello\n",
      "vipul\n"
     ]
    }
   ],
   "source": [
    "print('''hi\n",
    "hello\n",
    "vipul''')"
   ]
  },
  {
   "cell_type": "code",
   "execution_count": 4,
   "id": "c13ef93b-3372-4f38-b62c-ea3840fe2cac",
   "metadata": {},
   "outputs": [
    {
     "name": "stdin",
     "output_type": "stream",
     "text": [
      "enter username: vipul22\n"
     ]
    },
    {
     "name": "stdout",
     "output_type": "stream",
     "text": [
      "username is:vipul22\n"
     ]
    },
    {
     "name": "stdin",
     "output_type": "stream",
     "text": [
      "enter std id: 20\n"
     ]
    },
    {
     "name": "stdout",
     "output_type": "stream",
     "text": [
      "std id is:20\n"
     ]
    },
    {
     "name": "stdin",
     "output_type": "stream",
     "text": [
      "enter std name: vipul jambhulkat\n"
     ]
    },
    {
     "name": "stdout",
     "output_type": "stream",
     "text": [
      "std name is:vipul jambhulkat\n"
     ]
    },
    {
     "name": "stdin",
     "output_type": "stream",
     "text": [
      "enter brnh: computer\n"
     ]
    },
    {
     "name": "stdout",
     "output_type": "stream",
     "text": [
      "brnh is:computer\n"
     ]
    }
   ],
   "source": [
    "username=input(\"enter username:\")\n",
    "print(\"username is:\" +username)\n",
    "std_id=input(\"enter std id:\")\n",
    "print(\"std id is:\" +std_id)\n",
    "std_name=input(\"enter std name:\")\n",
    "print(\"std name is:\" +std_name)\n",
    "brnh= input(\"enter brnh:\")\n",
    "print(\"brnh is:\" +brnh)\n"
   ]
  },
  {
   "cell_type": "code",
   "execution_count": 29,
   "id": "c73f8f89-6096-49ec-8f8a-6c02998c5979",
   "metadata": {},
   "outputs": [
    {
     "name": "stdout",
     "output_type": "stream",
     "text": [
      "b is greter\n"
     ]
    }
   ],
   "source": [
    "#program to demonstrate if , elif by checking largest of three number\n",
    "a = 9\n",
    "b = 50 \n",
    "c = 15\n",
    "if a>b and a>c:\n",
    "    print(\"A is greter\")\n",
    "elif b>c and b>a:\n",
    "    print(\"b is greter\")\n",
    "else:\n",
    "    print(\"C is greter\")"
   ]
  },
  {
   "cell_type": "code",
   "execution_count": 9,
   "id": "65479794-e01b-498a-b9f7-5dd41cfdf84a",
   "metadata": {},
   "outputs": [
    {
     "name": "stdout",
     "output_type": "stream",
     "text": [
      "Number is not a Perfect Number.\n"
     ]
    }
   ],
   "source": [
    "#program to check whether a number is perfect or not\n",
    "Number = 10\n",
    "Sum = 0\n",
    "for i in range(1,Number):\n",
    "    if(Number % i == 0):\n",
    "        Sum = Sum + i\n",
    "if (Sum == Number):\n",
    "    print(\"Perfect Number.\")\n",
    "else:\n",
    "    print(\"not a Perfect Number.\")\n"
   ]
  },
  {
   "cell_type": "code",
   "execution_count": 16,
   "id": "28dd0c8f-838d-4523-b732-08f36d01e61f",
   "metadata": {},
   "outputs": [
    {
     "name": "stdout",
     "output_type": "stream",
     "text": [
      "orignal: ['d', 'c', 'b', 'a']\n",
      "sorted: ['a', 'b', 'c', 'd']\n"
     ]
    }
   ],
   "source": [
    "#read multi-word string and print them in alphabetical order\n",
    "str = ['d','c','b','a']\n",
    "print(\"orignal:\",str)\n",
    "str.sort()\n",
    "print(\"sorted:\",str)"
   ]
  },
  {
   "cell_type": "code",
   "execution_count": 38,
   "id": "c2dcd3dd-51a0-4230-9a7e-d7c853178631",
   "metadata": {},
   "outputs": [
    {
     "name": "stdout",
     "output_type": "stream",
     "text": [
      "{'i10': 'Grey', 'vip': 'Red', 'i20': 'white'}\n",
      "this many car in dictionary: 3\n",
      "{'i10': 'Grey', 'vip': 'Black', 'i20': 'white'}\n",
      "{'vip': 'Black', 'i20': 'white'}\n"
     ]
    }
   ],
   "source": [
    "#car dictionary\n",
    "#how many car are thear in dictionary\n",
    "#change the colour of vipu to red\n",
    "#remove the car item\n",
    "car ={\"i10\":\"Grey\",\n",
    "      \"vip\":\"Red\",\n",
    "      \"i20\":\"white\"}\n",
    "print(car)\n",
    "print(\"this many car in dictionary:\",format(len(car)))\n",
    "car[\"vip\"] = \"Black\"\n",
    "print(car)\n",
    "car.pop(\"i10\")\n",
    "print(car)"
   ]
  },
  {
   "cell_type": "code",
   "execution_count": 42,
   "id": "4c2a04a1-e8c1-42d6-b894-5e93079ff364",
   "metadata": {},
   "outputs": [
    {
     "name": "stdout",
     "output_type": "stream",
     "text": [
      "['na', 'N', 'nINU', 'nEA']\n",
      "['na', 'N', 'nINU', 'nEA', 'niiaa']\n",
      "('na', 'N', 'nINU', 'nEA', 'niiaa')\n"
     ]
    }
   ],
   "source": [
    "#write the program to slove element of tuple\n",
    "myT=(\"na\",\"N\",\"nINU\",\"nEA\")\n",
    "li = list(myT) #change to list\n",
    "print(li)\n",
    "li.append(\"niiaa\")#add in list\n",
    "print(li)\n",
    "myT=tuple(li)#change into tuple\n",
    "print(myT)"
   ]
  },
  {
   "cell_type": "code",
   "execution_count": 44,
   "id": "55fd76a0-4c86-40a1-a325-7921e66d78e6",
   "metadata": {},
   "outputs": [
    {
     "name": "stdout",
     "output_type": "stream",
     "text": [
      "Name Vipul\n",
      "Mobile 9595363474\n",
      "phone 785154\n",
      "Company CDAC\n"
     ]
    }
   ],
   "source": [
    "# implement contact book using dictionary\n",
    "book = {\n",
    "            \"Name\":\"Vipul\",\n",
    "            \"Mobile\":9595363474,\n",
    "            \"phone\":785154,\n",
    "            \"Company\":\"CDAC\"\n",
    "}\n",
    "for x,y in book.items():\n",
    "    print(x,y)"
   ]
  },
  {
   "cell_type": "code",
   "execution_count": 25,
   "id": "ad23082f-1c75-4b9f-b577-2d08e1b1d3ba",
   "metadata": {},
   "outputs": [
    {
     "name": "stdin",
     "output_type": "stream",
     "text": [
      " 6\n"
     ]
    },
    {
     "name": "stdout",
     "output_type": "stream",
     "text": [
      "0 1 1 2 3 5 "
     ]
    }
   ],
   "source": [
    "#program to demonstate fibonacci series by recursion\n",
    "def fibo(n):\n",
    "    if n==0:\n",
    "        return 0\n",
    "    elif n==1:\n",
    "        return 1\n",
    "    else:\n",
    "        return fibo(n-1) + fibo(n-2)\n",
    "    \n",
    "x=int(input())\n",
    "for x in range(0,x):\n",
    "    print(fibo(x), end=\" \")\n"
   ]
  },
  {
   "cell_type": "code",
   "execution_count": 1,
   "id": "c12a9b70-dd27-4112-9982-b0fbf4794eea",
   "metadata": {},
   "outputs": [
    {
     "name": "stdout",
     "output_type": "stream",
     "text": [
      "{1003: {'id': 1003, 'name': {'prefix': 'Mr.', 'firstname': 'prabhat', 'lastname': 'shinde'}, 'jobrole': 'HPC Developer', 'joiningdate': datetime.date(2024, 6, 11), 'salary': 70015451}, 1005: {'id': 1005, 'name': {'prefix': 'Mr.', 'firstname': 'prabhat', 'lastname': 'shinde'}, 'jobrole': 'HPC Developer', 'joiningdate': datetime.date(2024, 6, 11), 'salary': 70015451}, 1007: {'id': 1007, 'name': {'prefix': 'Mr.', 'firstname': 'akhilesh', 'lastname': 'shashtri'}, 'jobrole': 'DEops Developer', 'joiningdate': datetime.date(2024, 8, 8), 'salary': 65015451}, 1010: {'id': 1010, 'name': {'prefix': 'Mr.', 'firstname': 'mukund', 'lastname': 'waghmare'}, 'jobrole': 'HPC AI Developer', 'joiningdate': datetime.date(2024, 12, 12), 'salary': 90015451}, 1013: {'id': 1013, 'name': {'prefix': 'Mr.', 'firstname': 'shivani', 'lastname': 'gargh'}, 'jobrole': 'AI semicond  Developer', 'joiningdate': datetime.date(2024, 11, 15), 'salary': 90015451}}\n"
     ]
    }
   ],
   "source": [
    "#using data structures, create a directory consisting of emplyeeDetails name,id jon role , joiningh date\n",
    "#1 add 5 employess\n",
    "#2 check senior most employee\n",
    "#3 add a new employee \n",
    "from datetime import date\n",
    "employee1 = {\n",
    "                \"id\":1003,\n",
    "                \"name\":{\n",
    "                    \"prefix\":\"Mr.\",\n",
    "                    \"firstname\":\"vipul\",\n",
    "                    \"lastname\":\"jambhulkar\",\n",
    "                },\n",
    "                \"jobrole\":\"developer\",\n",
    "                \"joiningdate\":date(2024,4,22),\n",
    "                \"salary\":82015451\n",
    "}\n",
    "employee2 = {\n",
    "        \n",
    "                \"id\":1005,\n",
    "                \"name\":{\n",
    "                    \"prefix\":\"Mr.\",\n",
    "                    \"firstname\":\"prabhat\",\n",
    "                    \"lastname\":\"shinde\",\n",
    "                },\n",
    "                \"jobrole\":\"HPC Developer\",\n",
    "                \"joiningdate\":date(2024,6,11),\n",
    "                \"salary\":70015451\n",
    "}\n",
    "employee3 = {\n",
    "        \n",
    "                \"id\":1007,\n",
    "                \"name\":{\n",
    "                    \"prefix\":\"Mr.\",\n",
    "                    \"firstname\":\"akhilesh\",\n",
    "                    \"lastname\":\"shashtri\",\n",
    "                },\n",
    "                \"jobrole\":\"DEops Developer\",\n",
    "                \"joiningdate\":date(2024,8,8),\n",
    "                \"salary\":65015451\n",
    "}\n",
    "employee4 = {\n",
    "        \n",
    "                \"id\":1010,\n",
    "                \"name\":{\n",
    "                    \"prefix\":\"Mr.\",\n",
    "                    \"firstname\":\"mukund\",\n",
    "                    \"lastname\":\"waghmare\",\n",
    "                },\n",
    "                \"jobrole\":\"HPC AI Developer\",\n",
    "                \"joiningdate\":date(2024,12,12),\n",
    "                \"salary\":90015451\n",
    "}\n",
    "employee5 = {\n",
    "        \n",
    "                \"id\":1003,\n",
    "                \"name\":{\n",
    "                    \"prefix\":\"Mr.\",\n",
    "                    \"firstname\":\"prabhat\",\n",
    "                    \"lastname\":\"shinde\",\n",
    "                },\n",
    "                \"jobrole\":\"HPC Developer\",\n",
    "                \"joiningdate\":date(2024,6,11),\n",
    "                \"salary\":70015451\n",
    "}\n",
    "employee6 = {\n",
    "        \n",
    "                \"id\":1013,\n",
    "                \"name\":{\n",
    "                    \"prefix\":\"Mr.\",\n",
    "                    \"firstname\":\"shivani\",\n",
    "                    \"lastname\":\"gargh\",\n",
    "                },\n",
    "                \"jobrole\":\"AI semicond  Developer\",\n",
    "                \"joiningdate\":date(2024,11,15),\n",
    "                \"salary\":90015451\n",
    "}\n",
    "employee_de={}\n",
    "employee_de[1003] = employee1\n",
    "employee_de[1005] = employee2\n",
    "employee_de[1007] = employee3\n",
    "employee_de[1010] = employee4\n",
    "employee_de[1003] = employee5\n",
    "employee_de[1013] = employee6\n",
    "print(employee_de)"
   ]
  }
 ],
 "metadata": {
  "kernelspec": {
   "display_name": "Python 3 (ipykernel)",
   "language": "python",
   "name": "python3"
  },
  "language_info": {
   "codemirror_mode": {
    "name": "ipython",
    "version": 3
   },
   "file_extension": ".py",
   "mimetype": "text/x-python",
   "name": "python",
   "nbconvert_exporter": "python",
   "pygments_lexer": "ipython3",
   "version": "3.9.13"
  }
 },
 "nbformat": 4,
 "nbformat_minor": 5
}
