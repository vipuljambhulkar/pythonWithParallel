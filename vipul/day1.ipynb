{
 "cells": [
  {
   "cell_type": "code",
   "execution_count": 2,
   "id": "9c0673d6-92c9-4b2a-9226-3236626c7b0f",
   "metadata": {},
   "outputs": [
    {
     "name": "stdout",
     "output_type": "stream",
     "text": [
      "Hiii\n"
     ]
    }
   ],
   "source": [
    "print (\"Hiii\")"
   ]
  },
  {
   "cell_type": "code",
   "execution_count": 3,
   "id": "bac71600-4ca3-4396-b848-051559c4d090",
   "metadata": {},
   "outputs": [
    {
     "name": "stdout",
     "output_type": "stream",
     "text": [
      "hi\n"
     ]
    }
   ],
   "source": [
    "print(\"hi\")"
   ]
  },
  {
   "cell_type": "code",
   "execution_count": 5,
   "id": "94f12e31-68d9-4c5c-a6f8-3a895cf53252",
   "metadata": {},
   "outputs": [
    {
     "name": "stdout",
     "output_type": "stream",
     "text": [
      "hello\n"
     ]
    }
   ],
   "source": [
    "print('hello')"
   ]
  },
  {
   "cell_type": "code",
   "execution_count": 6,
   "id": "dcc89e86-11c2-4344-8fb5-9bd13bdebb28",
   "metadata": {},
   "outputs": [
    {
     "name": "stdout",
     "output_type": "stream",
     "text": [
      "Hello\n",
      "tarun\n",
      "How are you\n"
     ]
    }
   ],
   "source": [
    "print(\"Hello\")\n",
    "print(\"tarun\")\n",
    "print(\"How are you\")"
   ]
  },
  {
   "cell_type": "code",
   "execution_count": 9,
   "id": "63f0e7a3-ff15-480d-94df-9324e69175f4",
   "metadata": {},
   "outputs": [
    {
     "name": "stdout",
     "output_type": "stream",
     "text": [
      "hi\n",
      "hello\n",
      "tarun\n"
     ]
    }
   ],
   "source": [
    "print('''hi\n",
    "hello\n",
    "tarun''')\n"
   ]
  },
  {
   "cell_type": "code",
   "execution_count": 9,
   "id": "40841515-e5c6-4c19-b1f9-b72d5cb738f6",
   "metadata": {},
   "outputs": [
    {
     "name": "stdout",
     "output_type": "stream",
     "text": [
      "hi\n",
      "hello\n",
      "tarun\n"
     ]
    }
   ],
   "source": [
    "print('''hi\n",
    "hello\n",
    "tarun''')\n"
   ]
  },
  {
   "cell_type": "code",
   "execution_count": 13,
   "id": "9db8a772-6404-4172-af28-c1c5e205ddad",
   "metadata": {},
   "outputs": [
    {
     "name": "stdin",
     "output_type": "stream",
     "text": [
      "enter username: tarun Ande\n"
     ]
    },
    {
     "name": "stdout",
     "output_type": "stream",
     "text": [
      "username is:tarun Ande\n"
     ]
    },
    {
     "name": "stdin",
     "output_type": "stream",
     "text": [
      "enter std id: 545484285\n"
     ]
    },
    {
     "name": "stdout",
     "output_type": "stream",
     "text": [
      "std id is:545484285\n"
     ]
    },
    {
     "name": "stdin",
     "output_type": "stream",
     "text": [
      "enter std name: TrunAnde\n"
     ]
    },
    {
     "name": "stdout",
     "output_type": "stream",
     "text": [
      "std name is:TrunAnde\n"
     ]
    },
    {
     "name": "stdin",
     "output_type": "stream",
     "text": [
      "enter brnh: Electrical HAAA\n"
     ]
    },
    {
     "name": "stdout",
     "output_type": "stream",
     "text": [
      "brnh is:Electrical HAAA\n"
     ]
    }
   ],
   "source": [
    "username=input(\"enter username:\")\n",
    "print(\"username is:\" +username)\n",
    "std_id=input(\"enter std id:\")\n",
    "print(\"std id is:\" +std_id)\n",
    "std_name=input(\"enter std name:\")\n",
    "print(\"std name is:\" +std_name)\n",
    "brnh= input(\"enter brnh:\")\n",
    "print(\"brnh is:\" +brnh)\n"
   ]
  },
  {
   "cell_type": "code",
   "execution_count": 2,
   "id": "8d9446e5-7e2b-4f2b-84f0-49519eba1f02",
   "metadata": {},
   "outputs": [
    {
     "name": "stdout",
     "output_type": "stream",
     "text": [
      "('car', 'bus', 'truck')\n"
     ]
    }
   ],
   "source": [
    "mytuple=(\"car\",\"bus\",\"truck\")\n",
    "print(mytuple)"
   ]
  },
  {
   "cell_type": "code",
   "execution_count": 4,
   "id": "db97c9b9-9d6b-49a3-aaa6-2d6584e62674",
   "metadata": {},
   "outputs": [
    {
     "name": "stdout",
     "output_type": "stream",
     "text": [
      "('car', 'bus', 'truck', 'bus', 'truck')\n"
     ]
    }
   ],
   "source": [
    "mytuple=(\"car\",\"bus\",\"truck\",\"bus\",\"truck\")\n",
    "print(mytuple)"
   ]
  },
  {
   "cell_type": "code",
   "execution_count": 6,
   "id": "542623c8-4481-44a6-b254-609bed82ffc8",
   "metadata": {},
   "outputs": [
    {
     "name": "stdout",
     "output_type": "stream",
     "text": [
      "3\n"
     ]
    }
   ],
   "source": [
    "mytuple=(\"car\",\"bus\",\"truck\")\n",
    "print(len(mytuple))"
   ]
  },
  {
   "cell_type": "code",
   "execution_count": 8,
   "id": "9897f41e-5dfa-41c3-bedf-81d43298caca",
   "metadata": {},
   "outputs": [
    {
     "name": "stdout",
     "output_type": "stream",
     "text": [
      "<class 'tuple'>\n"
     ]
    }
   ],
   "source": [
    "mytuple=(\"car\",)\n",
    "print(type(mytuple))"
   ]
  },
  {
   "cell_type": "code",
   "execution_count": 19,
   "id": "67d26da1-8abb-4b75-bfb8-6caa2d4337c6",
   "metadata": {},
   "outputs": [
    {
     "name": "stdout",
     "output_type": "stream",
     "text": [
      "('car', 'bus', 'truck') (1, 5, 7, 93)\n"
     ]
    }
   ],
   "source": [
    "tuple1=(\"car\",\"bus\",\"truck\")\n",
    "tuple2=(1,5,7,93)\n",
    "tuple3=(True,False,False)\n",
    "tuple4=(1.1,2.2,3.3)\n",
    "\n",
    "print(tuple1,tuple2)"
   ]
  },
  {
   "cell_type": "code",
   "execution_count": 15,
   "id": "571faeb5-c2fa-4c86-a77f-1cc7099ff12f",
   "metadata": {},
   "outputs": [
    {
     "name": "stdout",
     "output_type": "stream",
     "text": [
      "truck\n"
     ]
    }
   ],
   "source": [
    "mytuple=(\"car\",\"bus\",\"truck\")\n",
    "print(mytuple[-1])"
   ]
  },
  {
   "cell_type": "code",
   "execution_count": 20,
   "id": "69e4353a-ba8a-45cc-a0d5-cb4b40bdcac5",
   "metadata": {},
   "outputs": [
    {
     "name": "stdout",
     "output_type": "stream",
     "text": [
      "bus\n"
     ]
    }
   ],
   "source": [
    "mytuple=(\"car\",\"bus\",\"truck\")\n",
    "print(mytuple[1])"
   ]
  },
  {
   "cell_type": "code",
   "execution_count": 24,
   "id": "4499df55-0ba2-497e-810b-1928cc87ebdd",
   "metadata": {},
   "outputs": [
    {
     "name": "stdout",
     "output_type": "stream",
     "text": [
      "('cherry', 'kiwi', 'melon')\n",
      "('apple', 'banana', 'cherry', 'kiwi', 'melon')\n",
      "('cherry', 'kiwi', 'melon', 'mango')\n",
      "melon\n"
     ]
    }
   ],
   "source": [
    "thistuple=(\"apple\",\"banana\",\"cherry\",\"kiwi\",\"melon\",\"mango\")\n",
    "print(thistuple[2:5])\n",
    "thistuple=(\"apple\",\"banana\",\"cherry\",\"kiwi\",\"melon\",\"mango\")\n",
    "print(thistuple[:5])\n",
    "thistuple=(\"apple\",\"banana\",\"cherry\",\"kiwi\",\"melon\",\"mango\")\n",
    "print(thistuple[2:])\n",
    "thistuple=(\"apple\",\"banana\",\"cherry\",\"kiwi\",\"melon\",\"mango\")\n",
    "print(thistuple[-2])"
   ]
  },
  {
   "cell_type": "code",
   "execution_count": 34,
   "id": "c08fc313-5148-4647-9381-227f381eb9d6",
   "metadata": {},
   "outputs": [
    {
     "name": "stdout",
     "output_type": "stream",
     "text": [
      "('Hi', 'bye', 'car')\n",
      "['Hi', 'bye', 'car']\n",
      "['Hi', 'bye', 'maam', 'orange']\n",
      "('Hi', 'bye', 'maam', 'orange')\n"
     ]
    }
   ],
   "source": [
    "x=(\"Hi\",\"bye\",\"car\")\n",
    "print(x)\n",
    "y=list(x)\n",
    "print(y)\n",
    "y[2]=\"maam\"\n",
    "y.append(\"orange\")\n",
    "print(y)\n",
    "x=tuple(y)\n",
    "print(x)\n",
    "\n"
   ]
  },
  {
   "cell_type": "code",
   "execution_count": 40,
   "id": "bd5550d0-90f9-48b6-9201-3be0addee80f",
   "metadata": {},
   "outputs": [
    {
     "name": "stdout",
     "output_type": "stream",
     "text": [
      "('Hi', 'bye', 'car', 'orange')\n"
     ]
    }
   ],
   "source": [
    "x=(\"Hi\",\"bye\",\"car\")\n",
    "y=(\"orange\",)\n",
    "x+=y\n",
    "print(x)\n",
    "\n"
   ]
  },
  {
   "cell_type": "code",
   "execution_count": 49,
   "id": "c8f44425-50ab-41ee-8ee0-929542bf86ea",
   "metadata": {},
   "outputs": [
    {
     "name": "stdout",
     "output_type": "stream",
     "text": [
      "['Hi', 'car', 'bye']\n",
      "('Hi', 'car', 'bye')\n"
     ]
    }
   ],
   "source": [
    "x=(\"Hi\",\"bye\",\"car\",\"bye\")\n",
    "y=list(x)\n",
    "y.remove(\"bye\")\n",
    "x=tuple(y)\n",
    "print(y)\n",
    "print(x)\n"
   ]
  },
  {
   "cell_type": "code",
   "execution_count": 50,
   "id": "411b19ca-2d1d-48d8-894b-a6dff3b59c3c",
   "metadata": {},
   "outputs": [
    {
     "ename": "NameError",
     "evalue": "name 'x' is not defined",
     "output_type": "error",
     "traceback": [
      "\u001b[1;31m---------------------------------------------------------------------------\u001b[0m",
      "\u001b[1;31mNameError\u001b[0m                                 Traceback (most recent call last)",
      "\u001b[1;32m~\\AppData\\Local\\Temp\\ipykernel_8796\\3927969936.py\u001b[0m in \u001b[0;36m<module>\u001b[1;34m\u001b[0m\n\u001b[0;32m      1\u001b[0m \u001b[0mx\u001b[0m\u001b[1;33m=\u001b[0m\u001b[1;33m(\u001b[0m\u001b[1;34m\"Hi\"\u001b[0m\u001b[1;33m,\u001b[0m\u001b[1;34m\"bye\"\u001b[0m\u001b[1;33m,\u001b[0m\u001b[1;34m\"car\"\u001b[0m\u001b[1;33m)\u001b[0m\u001b[1;33m\u001b[0m\u001b[1;33m\u001b[0m\u001b[0m\n\u001b[0;32m      2\u001b[0m \u001b[1;32mdel\u001b[0m \u001b[0mx\u001b[0m\u001b[1;33m\u001b[0m\u001b[1;33m\u001b[0m\u001b[0m\n\u001b[1;32m----> 3\u001b[1;33m \u001b[0mprint\u001b[0m\u001b[1;33m(\u001b[0m\u001b[0mx\u001b[0m\u001b[1;33m)\u001b[0m\u001b[1;33m\u001b[0m\u001b[1;33m\u001b[0m\u001b[0m\n\u001b[0m",
      "\u001b[1;31mNameError\u001b[0m: name 'x' is not defined"
     ]
    }
   ],
   "source": [
    "x=(\"Hi\",\"bye\",\"car\")\n",
    "del x\n",
    "print(x)"
   ]
  },
  {
   "cell_type": "code",
   "execution_count": 53,
   "id": "b8947785-9f41-4ca9-ad16-81b9cf85656c",
   "metadata": {},
   "outputs": [
    {
     "name": "stdout",
     "output_type": "stream",
     "text": [
      "apple\n",
      "hi\n",
      "bye\n",
      "('apple', 'hi', 'bye')\n"
     ]
    }
   ],
   "source": [
    "fruits=(\"apple\",\"hi\",\"bye\")\n",
    "(t,e,j)=fruits\n",
    "print(t)\n",
    "print(e)\n",
    "print(j)\n",
    "print(fruits)"
   ]
  },
  {
   "cell_type": "code",
   "execution_count": 55,
   "id": "6e9566ae-156b-4dd9-8a11-764f2c256932",
   "metadata": {},
   "outputs": [
    {
     "name": "stdout",
     "output_type": "stream",
     "text": [
      "apple\n",
      "hi\n",
      "['bye', 'hello', 'he']\n"
     ]
    }
   ],
   "source": [
    "fruits=(\"apple\",\"hi\",\"bye\",\"hello\",\"he\")\n",
    "(t,e,*j)=fruits\n",
    "print(t)\n",
    "print(e)\n",
    "print(j)\n"
   ]
  },
  {
   "cell_type": "code",
   "execution_count": 57,
   "id": "6a551e56-4aa4-4292-b01f-c6901e2a3401",
   "metadata": {},
   "outputs": [
    {
     "name": "stdout",
     "output_type": "stream",
     "text": [
      "apple\n",
      "['hi', 'bye', 'hello']\n",
      "he\n"
     ]
    }
   ],
   "source": [
    "fruits=(\"apple\",\"hi\",\"bye\",\"hello\",\"he\")\n",
    "(t,*e,j)=fruits\n",
    "print(t)\n",
    "print(e)\n",
    "print(j)\n"
   ]
  },
  {
   "cell_type": "code",
   "execution_count": 60,
   "id": "2b8f621d-8c11-4d57-b877-570cd36d7963",
   "metadata": {},
   "outputs": [
    {
     "name": "stdout",
     "output_type": "stream",
     "text": [
      "('a', 'b', 'c', 1, 2, 3)\n"
     ]
    }
   ],
   "source": [
    "tuple1=('a','b','c')\n",
    "tuple2=(1,2,3)\n",
    "tuple3=tuple1 + tuple2\n",
    "print(tuple3)"
   ]
  },
  {
   "cell_type": "code",
   "execution_count": 72,
   "id": "a38754de-772c-466f-bd94-3849fdcc1f08",
   "metadata": {},
   "outputs": [
    {
     "name": "stdout",
     "output_type": "stream",
     "text": [
      "('apple', 'hi', 'bye', 'hello', 'he', 'apple', 'hi', 'bye', 'hello', 'he', 'apple', 'hi', 'bye', 'hello', 'he')\n"
     ]
    }
   ],
   "source": [
    "fruits=(\"apple\",\"hi\",\"bye\",\"hello\",\"he\")\n",
    "mytuple=(fruits*3)\n",
    "print(mytuple)"
   ]
  },
  {
   "cell_type": "code",
   "execution_count": 77,
   "id": "5cdc7436-6e0b-42d0-92f1-73608d2e03a7",
   "metadata": {},
   "outputs": [
    {
     "name": "stdout",
     "output_type": "stream",
     "text": [
      "{'brand': 'Honda', 'model': 'city', 'year': 1990}\n",
      "Honda\n"
     ]
    }
   ],
   "source": [
    "d={\"brand\":\"Honda\",\n",
    "   \"model\":\"city\",\n",
    "   \"year\":1990\n",
    "  }\n",
    "print(d)\n",
    "print(d[\"brand\"])"
   ]
  },
  {
   "cell_type": "code",
   "execution_count": 80,
   "id": "a6b69561-b996-4523-a887-5335a0479717",
   "metadata": {},
   "outputs": [
    {
     "name": "stdout",
     "output_type": "stream",
     "text": [
      "{'brand': 'Honda', 'model': 'city', 'year': 2020}\n"
     ]
    }
   ],
   "source": [
    "d={\"brand\":\"Honda\",\n",
    "   \"model\":\"city\",\n",
    "   \"year\":1990,\n",
    "   \"year\":2020\n",
    "  }\n",
    "print(d)\n"
   ]
  },
  {
   "cell_type": "code",
   "execution_count": 83,
   "id": "1768fde8-0163-4edf-a849-d9566b9b5860",
   "metadata": {},
   "outputs": [
    {
     "name": "stdout",
     "output_type": "stream",
     "text": [
      "{'brand': 'Honda', 'model': 'city', 'year': 1990, 'coloue': 'blue'}\n"
     ]
    }
   ],
   "source": [
    "d={\"brand\":\"Honda\",\n",
    "   \"model\":\"city\",\n",
    "   \"year\":1990,\n",
    "   \"coloue\":\"blue\"\n",
    "  }\n",
    "print(d)\n",
    "x=d.keys()\n",
    "\n"
   ]
  },
  {
   "cell_type": "code",
   "execution_count": 86,
   "id": "f002f489-ad9a-46f3-94b5-8a26caa3a0fa",
   "metadata": {},
   "outputs": [
    {
     "name": "stdout",
     "output_type": "stream",
     "text": [
      "dict_keys(['brand', 'model', 'year', 'coloue'])\n"
     ]
    }
   ],
   "source": [
    "d={\"brand\":\"Honda\",\n",
    "   \"model\":\"city\",\n",
    "   \"year\":1990,\n",
    "   \"coloue\":\"blue\"\n",
    "  }\n",
    "x=d.keys()\n",
    "print(x)\n"
   ]
  },
  {
   "cell_type": "code",
   "execution_count": 88,
   "id": "e81b446c-c2ac-4fe8-8023-ae2bfa8c1e12",
   "metadata": {},
   "outputs": [
    {
     "name": "stdout",
     "output_type": "stream",
     "text": [
      "dict_keys(['brand', 'model', 'year', 'coloue'])\n",
      "dict_keys(['brand', 'model', 'year', 'coloue', 'color'])\n"
     ]
    }
   ],
   "source": [
    "d={\"brand\":\"Honda\",\n",
    "   \"model\":\"city\",\n",
    "   \"year\":1990,\n",
    "   \"coloue\":\"blue\"\n",
    "  }\n",
    "x=d.keys()\n",
    "print(x)\n",
    "d[\"color\"]=\"white\"\n",
    "print(x)"
   ]
  },
  {
   "cell_type": "code",
   "execution_count": 90,
   "id": "ad501817-6508-4e3d-bdd7-a5a91c5a4267",
   "metadata": {},
   "outputs": [
    {
     "name": "stdout",
     "output_type": "stream",
     "text": [
      "dict_values(['Honda', 'city', 1990, 'blue'])\n",
      "dict_values(['Honda', 'city', 1990, 'blue', 'white'])\n"
     ]
    }
   ],
   "source": [
    "d={\"brand\":\"Honda\",\n",
    "   \"model\":\"city\",\n",
    "   \"year\":1990,\n",
    "   \"coloue\":\"blue\"\n",
    "  }\n",
    "x=d.values()\n",
    "print(x)\n",
    "d[\"color\"]=\"white\"\n",
    "print(x)"
   ]
  },
  {
   "cell_type": "code",
   "execution_count": 92,
   "id": "7a666944-dfc5-4ce8-96f3-73d79d7e17bf",
   "metadata": {},
   "outputs": [
    {
     "name": "stdout",
     "output_type": "stream",
     "text": [
      "dict_items([('brand', 'Honda'), ('model', 'city'), ('year', 1990), ('coloue', 'blue')])\n"
     ]
    }
   ],
   "source": [
    "d={\"brand\":\"Honda\",\n",
    "   \"model\":\"city\",\n",
    "   \"year\":1990,\n",
    "   \"coloue\":\"blue\"\n",
    "  }\n",
    "x=d.items()\n",
    "print(x)\n",
    "\n"
   ]
  },
  {
   "cell_type": "code",
   "execution_count": 96,
   "id": "4337e8b9-f22b-4980-be0e-32f5d5542850",
   "metadata": {},
   "outputs": [
    {
     "name": "stdout",
     "output_type": "stream",
     "text": [
      "{'brand': 'Honda', 'year': 1990, 'coloue': 'blue'}\n"
     ]
    }
   ],
   "source": [
    "d={\"brand\":\"Honda\",\n",
    "   \"model\":\"city\",\n",
    "   \"year\":1990,\n",
    "   \"coloue\":\"blue\"\n",
    "  }\n",
    "del d[\"model\"]\n",
    "print(d)\n",
    "\n"
   ]
  },
  {
   "cell_type": "code",
   "execution_count": 99,
   "id": "89ee8217-b1fd-435b-b441-a2fc08a981b0",
   "metadata": {},
   "outputs": [
    {
     "name": "stdout",
     "output_type": "stream",
     "text": [
      "{'brand': 'Honda', 'year': 1990, 'coloue': 'blue'}\n"
     ]
    }
   ],
   "source": [
    "d={\"brand\":\"Honda\",\n",
    "   \"model\":\"city\",\n",
    "   \"year\":1990,\n",
    "   \"coloue\":\"blue\"\n",
    "  }\n",
    "d.pop(\"model\")\n",
    "print(d)\n",
    "\n"
   ]
  },
  {
   "cell_type": "code",
   "execution_count": 101,
   "id": "e01a84de-a783-4c34-8d67-8c6c61de8ef0",
   "metadata": {},
   "outputs": [
    {
     "name": "stdout",
     "output_type": "stream",
     "text": [
      "{'brand': 'Honda', 'model': 'city', 'year': 1990}\n"
     ]
    }
   ],
   "source": [
    "d={\"brand\":\"Honda\",\n",
    "   \"model\":\"city\",\n",
    "   \"year\":1990,\n",
    "   \"coloue\":\"blue\"\n",
    "  }\n",
    "d.popitem()\n",
    "print(d)\n",
    "\n"
   ]
  },
  {
   "cell_type": "code",
   "execution_count": 102,
   "id": "0c864890-422f-4a28-a904-f30b226426ac",
   "metadata": {},
   "outputs": [
    {
     "ename": "NameError",
     "evalue": "name 'd' is not defined",
     "output_type": "error",
     "traceback": [
      "\u001b[1;31m---------------------------------------------------------------------------\u001b[0m",
      "\u001b[1;31mNameError\u001b[0m                                 Traceback (most recent call last)",
      "\u001b[1;32m~\\AppData\\Local\\Temp\\ipykernel_8796\\2373955750.py\u001b[0m in \u001b[0;36m<module>\u001b[1;34m\u001b[0m\n\u001b[0;32m      5\u001b[0m   }\n\u001b[0;32m      6\u001b[0m \u001b[1;32mdel\u001b[0m \u001b[0md\u001b[0m\u001b[1;33m\u001b[0m\u001b[1;33m\u001b[0m\u001b[0m\n\u001b[1;32m----> 7\u001b[1;33m \u001b[0mprint\u001b[0m\u001b[1;33m(\u001b[0m\u001b[0md\u001b[0m\u001b[1;33m)\u001b[0m\u001b[1;33m\u001b[0m\u001b[1;33m\u001b[0m\u001b[0m\n\u001b[0m",
      "\u001b[1;31mNameError\u001b[0m: name 'd' is not defined"
     ]
    }
   ],
   "source": [
    "d={\"brand\":\"Honda\",\n",
    "   \"model\":\"city\",\n",
    "   \"year\":1990,\n",
    "   \"coloue\":\"blue\"\n",
    "  }\n",
    "del d\n",
    "print(d)\n"
   ]
  }
 ],
 "metadata": {
  "kernelspec": {
   "display_name": "Python 3 (ipykernel)",
   "language": "python",
   "name": "python3"
  },
  "language_info": {
   "codemirror_mode": {
    "name": "ipython",
    "version": 3
   },
   "file_extension": ".py",
   "mimetype": "text/x-python",
   "name": "python",
   "nbconvert_exporter": "python",
   "pygments_lexer": "ipython3",
   "version": "3.9.13"
  }
 },
 "nbformat": 4,
 "nbformat_minor": 5
}
