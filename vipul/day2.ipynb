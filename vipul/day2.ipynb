{
 "cells": [
  {
   "cell_type": "code",
   "execution_count": 4,
   "id": "1a977759-73b5-4971-bdc1-0aa18cd118be",
   "metadata": {},
   "outputs": [
    {
     "name": "stdout",
     "output_type": "stream",
     "text": [
      "apple\n",
      "banana\n",
      "chery\n"
     ]
    }
   ],
   "source": [
    "friut = [\"apple\",\"banana\",\"chery\"]\n",
    "for x in friut:\n",
    "    print(x)"
   ]
  },
  {
   "cell_type": "code",
   "execution_count": null,
   "id": "a400cdb9-f4e6-4ea5-8f7a-7ceefe2a738b",
   "metadata": {},
   "outputs": [],
   "source": []
  },
  {
   "cell_type": "code",
   "execution_count": 4,
   "id": "78df28b7-6ff5-461c-a9a8-cc7e7c3ba244",
   "metadata": {},
   "outputs": [
    {
     "name": "stdout",
     "output_type": "stream",
     "text": [
      "\t b\n",
      "\t a\n",
      "\t n\n",
      "\t a\n",
      "\t n\n",
      "\t a\n"
     ]
    }
   ],
   "source": [
    "friut = [\"apple\",\"banana\",\"chery\"]\n",
    "for x in \"banana\":\n",
    "    print(x)"
   ]
  },
  {
   "cell_type": "code",
   "execution_count": 5,
   "id": "4c6e40b6-9ced-470a-adcd-152b56dbd6b8",
   "metadata": {},
   "outputs": [
    {
     "name": "stdout",
     "output_type": "stream",
     "text": [
      "apple\n",
      "banana\n"
     ]
    }
   ],
   "source": [
    "friut = [\"apple\",\"banana\",\"chery\"]\n",
    "for x in friut:\n",
    "    print(x)\n",
    "    if x==\"banana\":\n",
    "        break\n",
    "        "
   ]
  },
  {
   "cell_type": "code",
   "execution_count": 7,
   "id": "aaffb202-fadb-404d-89d7-b3efbf20078e",
   "metadata": {},
   "outputs": [
    {
     "name": "stdout",
     "output_type": "stream",
     "text": [
      "apple\n"
     ]
    }
   ],
   "source": [
    "friut = [\"apple\",\"banana\",\"chery\"]\n",
    "for x in friut:\n",
    "    #print(x)\n",
    "    if x==\"banana\":\n",
    "        break\n",
    "    print(x)"
   ]
  },
  {
   "cell_type": "code",
   "execution_count": 8,
   "id": "cbae3bae-ea1a-4867-b02a-e59f13f6d798",
   "metadata": {},
   "outputs": [
    {
     "name": "stdout",
     "output_type": "stream",
     "text": [
      "apple\n",
      "chery\n"
     ]
    }
   ],
   "source": [
    "friut = [\"apple\",\"banana\",\"chery\"]\n",
    "for x in friut:\n",
    "    #print(x)\n",
    "    if x==\"banana\":\n",
    "        continue\n",
    "    print(x)"
   ]
  },
  {
   "cell_type": "code",
   "execution_count": 11,
   "id": "d896f57a-c57f-4361-9ba1-a82299ef8383",
   "metadata": {},
   "outputs": [
    {
     "name": "stdout",
     "output_type": "stream",
     "text": [
      "0\n",
      "1\n",
      "2\n",
      "3\n",
      "4\n",
      "5\n"
     ]
    }
   ],
   "source": [
    "for x in range(6):\n",
    "    print(x)"
   ]
  },
  {
   "cell_type": "code",
   "execution_count": 12,
   "id": "b0dc2d1b-f24f-4be5-b088-1641306a5dd3",
   "metadata": {},
   "outputs": [
    {
     "name": "stdout",
     "output_type": "stream",
     "text": [
      "2\n",
      "5\n",
      "8\n",
      "11\n",
      "14\n",
      "17\n",
      "20\n",
      "23\n",
      "26\n",
      "29\n"
     ]
    }
   ],
   "source": [
    "for x in range(2,30,3):\n",
    "    print(x)"
   ]
  },
  {
   "cell_type": "code",
   "execution_count": 13,
   "id": "55c4f5b9-2a4e-44a7-8c99-a3d60d1d9851",
   "metadata": {},
   "outputs": [
    {
     "name": "stdout",
     "output_type": "stream",
     "text": [
      "2\n",
      "3\n",
      "4\n",
      "5\n"
     ]
    }
   ],
   "source": [
    "for x in range(2,6):\n",
    "    print(x)"
   ]
  },
  {
   "cell_type": "code",
   "execution_count": 11,
   "id": "24c9bc0e-1686-4a91-80b9-2d262642b868",
   "metadata": {},
   "outputs": [
    {
     "name": "stdout",
     "output_type": "stream",
     "text": [
      "1\n",
      "2\n",
      "3\n",
      "4\n",
      "5\n"
     ]
    }
   ],
   "source": [
    "i=1\n",
    "while i<6:\n",
    "    print (i)\n",
    "    i+=1"
   ]
  },
  {
   "cell_type": "code",
   "execution_count": 6,
   "id": "2479546b-653c-4758-b560-93b3d96f2ea3",
   "metadata": {},
   "outputs": [
    {
     "name": "stdout",
     "output_type": "stream",
     "text": [
      "good mornigh,\n",
      "     text this code like pro,\n",
      "     got it bro.\n"
     ]
    }
   ],
   "source": [
    "str=\"\"\"good mornigh,\n",
    "     text this code like pro,\n",
    "     got it bro.\"\"\"\n",
    "print(str)"
   ]
  },
  {
   "cell_type": "code",
   "execution_count": 7,
   "id": "9dd5b20e-557b-4ddf-bf6e-96ce824ea58c",
   "metadata": {},
   "outputs": [
    {
     "name": "stdout",
     "output_type": "stream",
     "text": [
      "e\n"
     ]
    }
   ],
   "source": [
    "a=\"hello\"\n",
    "print(a[1])"
   ]
  },
  {
   "cell_type": "code",
   "execution_count": 8,
   "id": "8af9f693-733d-447b-be36-1483bd6a74ff",
   "metadata": {},
   "outputs": [
    {
     "name": "stdout",
     "output_type": "stream",
     "text": [
      "12\n"
     ]
    }
   ],
   "source": [
    "a=\"hello, world\"\n",
    "print(len(a))"
   ]
  },
  {
   "cell_type": "code",
   "execution_count": 12,
   "id": "9a7d4dc0-4005-4d4a-abab-ab0222cf6ade",
   "metadata": {},
   "outputs": [
    {
     "name": "stdout",
     "output_type": "stream",
     "text": [
      "True\n"
     ]
    }
   ],
   "source": [
    "txt = \"today is good day\"\n",
    "print(\"good\" in txt)"
   ]
  },
  {
   "cell_type": "code",
   "execution_count": 15,
   "id": "ecb68c4c-c01c-445d-9189-be916c3609b6",
   "metadata": {},
   "outputs": [
    {
     "name": "stdout",
     "output_type": "stream",
     "text": [
      "Hiee\n"
     ]
    }
   ],
   "source": [
    "str='''Hiee'''\n",
    "print(str)"
   ]
  },
  {
   "cell_type": "code",
   "execution_count": 19,
   "id": "e52bd0e3-c5ed-46c9-91b4-9892afc9e4b0",
   "metadata": {},
   "outputs": [
    {
     "name": "stdout",
     "output_type": "stream",
     "text": [
      "o\n"
     ]
    }
   ],
   "source": [
    "a=\"hello, World\"\n",
    "print(a[4])"
   ]
  },
  {
   "cell_type": "code",
   "execution_count": 24,
   "id": "f36c098a-a548-4d2e-a329-eeb6591df64e",
   "metadata": {},
   "outputs": [
    {
     "name": "stdout",
     "output_type": "stream",
     "text": [
      "m\n",
      "o\n",
      "r\n",
      "n\n",
      "i\n",
      "n\n",
      "g\n"
     ]
    }
   ],
   "source": [
    "for x in \"morning\":\n",
    "    print(x)"
   ]
  },
  {
   "cell_type": "code",
   "execution_count": 26,
   "id": "b0952a6b-ac3c-4998-ac38-619079080f07",
   "metadata": {},
   "outputs": [
    {
     "name": "stdout",
     "output_type": "stream",
     "text": [
      "5\n"
     ]
    }
   ],
   "source": [
    "a=\"Hello\"\n",
    "print(len(a))"
   ]
  },
  {
   "cell_type": "code",
   "execution_count": 29,
   "id": "f6026565-06c1-4715-9568-3cba917046c2",
   "metadata": {},
   "outputs": [
    {
     "name": "stdout",
     "output_type": "stream",
     "text": [
      "False\n"
     ]
    }
   ],
   "source": [
    "txt = \"today is good day\"\n",
    "print(\"goodi\" in txt)"
   ]
  },
  {
   "cell_type": "code",
   "execution_count": 42,
   "id": "7c9d1062-f001-41f9-9121-f6b270c7bdd4",
   "metadata": {},
   "outputs": [
    {
     "name": "stdout",
     "output_type": "stream",
     "text": [
      "Yes,'good' in present\n",
      "no 'goodi' in txt\n"
     ]
    }
   ],
   "source": [
    "txt = \"today is good day\"\n",
    "if\"good\" in txt:\n",
    "    print(\"Yes,'good' in present\")\n",
    "if\"goodi\" not in txt:\n",
    "    print(\"no 'goodi' in txt\")"
   ]
  },
  {
   "cell_type": "code",
   "execution_count": 44,
   "id": "31c89024-d646-4ab6-8b5e-4c2e700213e5",
   "metadata": {},
   "outputs": [
    {
     "name": "stdout",
     "output_type": "stream",
     "text": [
      "llo\n"
     ]
    }
   ],
   "source": [
    "b=\"Hello World\"\n",
    "print(b[2:5])"
   ]
  },
  {
   "cell_type": "code",
   "execution_count": 46,
   "id": "bce0f64a-c2d7-4a27-bd54-a02c94965c97",
   "metadata": {},
   "outputs": [
    {
     "name": "stdout",
     "output_type": "stream",
     "text": [
      "Hello\n"
     ]
    }
   ],
   "source": [
    "b=\"Hello World\"\n",
    "print(b[:5])"
   ]
  },
  {
   "cell_type": "code",
   "execution_count": 48,
   "id": "e3f1e179-ba5f-4c4a-8128-c3c6c86ecc2e",
   "metadata": {},
   "outputs": [
    {
     "name": "stdout",
     "output_type": "stream",
     "text": [
      "llo World\n"
     ]
    }
   ],
   "source": [
    "b=\"Hello World\"\n",
    "print(b[2:])"
   ]
  },
  {
   "cell_type": "code",
   "execution_count": 56,
   "id": "de772318-e827-49bb-8f14-6104dc8b7bbb",
   "metadata": {},
   "outputs": [
    {
     "name": "stdout",
     "output_type": "stream",
     "text": [
      "_Worl\n"
     ]
    }
   ],
   "source": [
    "b=\"Hello_World\"\n",
    "print(b[-6:-1])"
   ]
  },
  {
   "cell_type": "code",
   "execution_count": 58,
   "id": "3192ee1f-eaac-47d4-bab7-f6cf16a78b7c",
   "metadata": {},
   "outputs": [
    {
     "name": "stdout",
     "output_type": "stream",
     "text": [
      "HELLO_WORLD\n"
     ]
    }
   ],
   "source": [
    "b=\"Hello_World\"\n",
    "print(b.upper())"
   ]
  },
  {
   "cell_type": "code",
   "execution_count": 60,
   "id": "73677836-54a2-4e81-9fb8-82f5506281a1",
   "metadata": {},
   "outputs": [
    {
     "name": "stdout",
     "output_type": "stream",
     "text": [
      "hello_world\n"
     ]
    }
   ],
   "source": [
    "b=\"Hello_World\"\n",
    "print(b.lower())"
   ]
  },
  {
   "cell_type": "code",
   "execution_count": 62,
   "id": "c65e1be7-b403-4ded-8898-169b09306aed",
   "metadata": {},
   "outputs": [
    {
     "name": "stdout",
     "output_type": "stream",
     "text": [
      "Hello_World\n"
     ]
    }
   ],
   "source": [
    "b=\" Hello_World\"\n",
    "print(b.strip())"
   ]
  },
  {
   "cell_type": "code",
   "execution_count": 66,
   "id": "71fb3ed5-427f-4adc-9ce0-4eafb337b3a6",
   "metadata": {},
   "outputs": [
    {
     "name": "stdout",
     "output_type": "stream",
     "text": [
      "[' Hello', 'World']\n"
     ]
    }
   ],
   "source": [
    "b=\" Hello_World\"\n",
    "print(b.split(\"_\"))"
   ]
  },
  {
   "cell_type": "code",
   "execution_count": 69,
   "id": "6c00c87d-19cf-4ad3-a723-18b36c1371ac",
   "metadata": {},
   "outputs": [
    {
     "name": "stdout",
     "output_type": "stream",
     "text": [
      " jello_World\n"
     ]
    }
   ],
   "source": [
    "b=\" Hello_World\"\n",
    "print(b.replace(\"H\",\"j\"))"
   ]
  },
  {
   "cell_type": "code",
   "execution_count": 71,
   "id": "ae026953-9ead-4721-afcf-7376d3e14c8a",
   "metadata": {},
   "outputs": [
    {
     "name": "stdout",
     "output_type": "stream",
     "text": [
      "Helloworld\n"
     ]
    }
   ],
   "source": [
    "a=\"Hello\"\n",
    "b=\"world\"\n",
    "c=a+b\n",
    "print(c)"
   ]
  },
  {
   "cell_type": "code",
   "execution_count": 74,
   "id": "59f594c5-f57f-4376-9263-62628772730b",
   "metadata": {},
   "outputs": [
    {
     "name": "stdout",
     "output_type": "stream",
     "text": [
      "Hello@world\n"
     ]
    }
   ],
   "source": [
    "a=\"Hello\"\n",
    "b=\"world\"\n",
    "c=a+\"@\"+b\n",
    "print(c)"
   ]
  },
  {
   "cell_type": "code",
   "execution_count": 76,
   "id": "9fb740b8-221f-4262-a4c2-a1bbfef81499",
   "metadata": {},
   "outputs": [
    {
     "name": "stdout",
     "output_type": "stream",
     "text": [
      "my name is tarun, i am 30\n"
     ]
    }
   ],
   "source": [
    "age = 30\n",
    "name = \"my name is tarun, i am {}\"\n",
    "print(name.format(age))"
   ]
  },
  {
   "cell_type": "code",
   "execution_count": 78,
   "id": "01c16344-8546-4ed6-a0d1-7c15785214a3",
   "metadata": {},
   "outputs": [
    {
     "ename": "TypeError",
     "evalue": "can only concatenate str (not \"int\") to str",
     "output_type": "error",
     "traceback": [
      "\u001b[1;31m---------------------------------------------------------------------------\u001b[0m",
      "\u001b[1;31mTypeError\u001b[0m                                 Traceback (most recent call last)",
      "\u001b[1;32m~\\AppData\\Local\\Temp\\ipykernel_6760\\2816558197.py\u001b[0m in \u001b[0;36m<module>\u001b[1;34m\u001b[0m\n\u001b[0;32m      1\u001b[0m \u001b[0mage\u001b[0m \u001b[1;33m=\u001b[0m \u001b[1;36m30\u001b[0m\u001b[1;33m\u001b[0m\u001b[1;33m\u001b[0m\u001b[0m\n\u001b[1;32m----> 2\u001b[1;33m \u001b[0mname\u001b[0m \u001b[1;33m=\u001b[0m \u001b[1;34m\"my name is tarun, i am\"\u001b[0m\u001b[1;33m+\u001b[0m\u001b[0mage\u001b[0m\u001b[1;33m\u001b[0m\u001b[1;33m\u001b[0m\u001b[0m\n\u001b[0m\u001b[0;32m      3\u001b[0m \u001b[0mprint\u001b[0m\u001b[1;33m(\u001b[0m\u001b[0mname\u001b[0m\u001b[1;33m)\u001b[0m\u001b[1;33m\u001b[0m\u001b[1;33m\u001b[0m\u001b[0m\n",
      "\u001b[1;31mTypeError\u001b[0m: can only concatenate str (not \"int\") to str"
     ]
    }
   ],
   "source": [
    "age = 30\n",
    "name = \"my name is tarun, i am\"+age\n",
    "print(name)"
   ]
  },
  {
   "cell_type": "code",
   "execution_count": 81,
   "id": "69071cf5-adc0-46ff-a462-31fe1b0fb879",
   "metadata": {},
   "outputs": [
    {
     "name": "stdout",
     "output_type": "stream",
     "text": [
      "i want3 piecesof item 56 for 49.95 dollars.\n"
     ]
    }
   ],
   "source": [
    "q=3\n",
    "i=56\n",
    "p=49.95\n",
    "myorder=\"i want{} piecesof item {} for {} dollars.\"\n",
    "print(myorder.format(q,i,p))"
   ]
  },
  {
   "cell_type": "code",
   "execution_count": 91,
   "id": "79a3ce82-7d42-432d-9232-d240e79237cb",
   "metadata": {},
   "outputs": [
    {
     "name": "stdout",
     "output_type": "stream",
     "text": [
      "i want49.95 piecesof item56 for3 dollars.\n"
     ]
    }
   ],
   "source": [
    "q=3\n",
    "i=56\n",
    "p=49.95\n",
    "myorder=\"i want{2} piecesof item{1} for{0} dollars.\"\n",
    "print(myorder.format(q,i,p))"
   ]
  },
  {
   "cell_type": "code",
   "execution_count": 96,
   "id": "5efc3a54-6cac-4c0b-b268-84e4732a20b3",
   "metadata": {},
   "outputs": [
    {
     "name": "stdout",
     "output_type": "stream",
     "text": [
      "Jello, world\n"
     ]
    }
   ],
   "source": [
    "a=\"Hello, world\"\n",
    "print(a.replace(\"H\",\"J\"))"
   ]
  },
  {
   "cell_type": "code",
   "execution_count": null,
   "id": "6659f560-0875-4664-aa70-fb7c977ff6f5",
   "metadata": {},
   "outputs": [],
   "source": []
  }
 ],
 "metadata": {
  "kernelspec": {
   "display_name": "Python 3 (ipykernel)",
   "language": "python",
   "name": "python3"
  },
  "language_info": {
   "codemirror_mode": {
    "name": "ipython",
    "version": 3
   },
   "file_extension": ".py",
   "mimetype": "text/x-python",
   "name": "python",
   "nbconvert_exporter": "python",
   "pygments_lexer": "ipython3",
   "version": "3.9.13"
  }
 },
 "nbformat": 4,
 "nbformat_minor": 5
}
