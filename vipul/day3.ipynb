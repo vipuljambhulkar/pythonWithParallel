{
 "cells": [
  {
   "cell_type": "code",
   "execution_count": 6,
   "id": "6314818a-5436-43e2-86f4-1f8681562caa",
   "metadata": {},
   "outputs": [
    {
     "name": "stdout",
     "output_type": "stream",
     "text": [
      "['mango', 'he', 'she', 'it', 'they']\n",
      "['mango', 'he', 'she', 'it', 'they', 'hey']\n",
      "6\n"
     ]
    }
   ],
   "source": [
    "c = [\"mango\",\"he\",\"she\",\"it\",\"they\"]\n",
    "print(c)\n",
    "c.append(\"hey\")\n",
    "print(c)\n",
    "print(len(c))"
   ]
  },
  {
   "cell_type": "code",
   "execution_count": 4,
   "id": "7c5885fa-a600-45d5-8896-dc95f71efed4",
   "metadata": {},
   "outputs": [
    {
     "name": "stdout",
     "output_type": "stream",
     "text": [
      "['she', 'it']\n"
     ]
    }
   ],
   "source": [
    "c = [\"mango\",\"he\",\"she\",\"it\",\"they\"]\n",
    "print(c[2:4])"
   ]
  },
  {
   "cell_type": "code",
   "execution_count": 7,
   "id": "e3698d92-7511-49d7-bf79-8212030b9c24",
   "metadata": {},
   "outputs": [
    {
     "name": "stdout",
     "output_type": "stream",
     "text": [
      "['mango', 'he', 'she', 'mama', 'they']\n"
     ]
    }
   ],
   "source": [
    "c = [\"mango\",\"he\",\"she\",\"it\",\"they\"]\n",
    "c[3] = \"mama\"\n",
    "print(c)"
   ]
  },
  {
   "cell_type": "code",
   "execution_count": 13,
   "id": "b142c5bc-04c5-4a12-b53c-45be4bdc310c",
   "metadata": {},
   "outputs": [
    {
     "name": "stdout",
     "output_type": "stream",
     "text": [
      "['mango', 'he', 'she', 'it', 'they']\n",
      "['mango', 'he', 'she', 'it', 'they', 3.4]\n",
      "['mango', 'banana', 'he', 'she', 'it', 'they', 3.4]\n",
      "['mango', 'banana', 'he', 'it', 'they', 3.4]\n"
     ]
    }
   ],
   "source": [
    "c = [\"mango\",\"he\",\"she\",\"it\",\"they\"]\n",
    "\n",
    "print(c)\n",
    "c.append(3.4)\n",
    "print(c)\n",
    "c.insert(1,\"banana\")\n",
    "print(c)\n",
    "c.remove(\"she\")\n",
    "print(c)"
   ]
  },
  {
   "cell_type": "code",
   "execution_count": 1,
   "id": "afa9021c-e943-40eb-8c2a-5dece9a3ca70",
   "metadata": {},
   "outputs": [
    {
     "ename": "SyntaxError",
     "evalue": "invalid syntax (2655949378.py, line 2)",
     "output_type": "error",
     "traceback": [
      "\u001b[1;36m  File \u001b[1;32m\"C:\\Users\\corporate\\AppData\\Local\\Temp\\ipykernel_7504\\2655949378.py\"\u001b[1;36m, line \u001b[1;32m2\u001b[0m\n\u001b[1;33m    taru = [2:2]= [\"eja\",\"roshan\"]\u001b[0m\n\u001b[1;37m             ^\u001b[0m\n\u001b[1;31mSyntaxError\u001b[0m\u001b[1;31m:\u001b[0m invalid syntax\n"
     ]
    }
   ],
   "source": [
    "taru = [\"vipul\",\"tarun\",\"akhilesh\",\"prabaht\"]\n",
    "taru = [2:2]= [\"eja\",\"roshan\"]\n",
    "print(taru)"
   ]
  },
  {
   "cell_type": "code",
   "execution_count": 1,
   "id": "a0744d7d-7b5c-41eb-bac8-46759f0a91bc",
   "metadata": {},
   "outputs": [
    {
     "ename": "AttributeError",
     "evalue": "'list' object has no attribute 'extent'",
     "output_type": "error",
     "traceback": [
      "\u001b[1;31m---------------------------------------------------------------------------\u001b[0m",
      "\u001b[1;31mAttributeError\u001b[0m                            Traceback (most recent call last)",
      "\u001b[1;32m~\\AppData\\Local\\Temp\\ipykernel_6856\\4233183143.py\u001b[0m in \u001b[0;36m<module>\u001b[1;34m\u001b[0m\n\u001b[0;32m      1\u001b[0m \u001b[0mtaru\u001b[0m \u001b[1;33m=\u001b[0m \u001b[1;33m[\u001b[0m\u001b[1;34m\"vipul\"\u001b[0m\u001b[1;33m,\u001b[0m\u001b[1;34m\"tarun\"\u001b[0m\u001b[1;33m,\u001b[0m\u001b[1;34m\"akhilesh\"\u001b[0m\u001b[1;33m,\u001b[0m\u001b[1;34m\"prabaht\"\u001b[0m\u001b[1;33m]\u001b[0m\u001b[1;33m\u001b[0m\u001b[1;33m\u001b[0m\u001b[0m\n\u001b[0;32m      2\u001b[0m \u001b[0mtaru1\u001b[0m \u001b[1;33m=\u001b[0m \u001b[1;33m[\u001b[0m\u001b[1;34m\"teja\"\u001b[0m\u001b[1;33m,\u001b[0m\u001b[1;34m\"roshan\"\u001b[0m\u001b[1;33m]\u001b[0m\u001b[1;33m\u001b[0m\u001b[1;33m\u001b[0m\u001b[0m\n\u001b[1;32m----> 3\u001b[1;33m \u001b[0mtaru\u001b[0m\u001b[1;33m.\u001b[0m\u001b[0mextent\u001b[0m\u001b[1;33m(\u001b[0m\u001b[0mtaru1\u001b[0m\u001b[1;33m)\u001b[0m\u001b[1;33m\u001b[0m\u001b[1;33m\u001b[0m\u001b[0m\n\u001b[0m\u001b[0;32m      4\u001b[0m \u001b[0mprint\u001b[0m\u001b[1;33m(\u001b[0m\u001b[0mtaru\u001b[0m\u001b[1;33m)\u001b[0m\u001b[1;33m\u001b[0m\u001b[1;33m\u001b[0m\u001b[0m\n",
      "\u001b[1;31mAttributeError\u001b[0m: 'list' object has no attribute 'extent'"
     ]
    }
   ],
   "source": [
    "taru = [\"vipul\",\"tarun\",\"akhilesh\",\"prabaht\"]\n",
    "taru1 = [\"teja\",\"roshan\"]\n",
    "taru.extent(taru1)\n",
    "print(taru)"
   ]
  },
  {
   "cell_type": "code",
   "execution_count": 7,
   "id": "6824ace5-6809-42a5-b516-5f45f5e44f53",
   "metadata": {},
   "outputs": [
    {
     "name": "stdout",
     "output_type": "stream",
     "text": [
      "['vipul', 'tarun', 'akhilesh', 'prabaht']\n",
      "['vipul', 'tarun', 'akhilesh', 'prabaht']\n",
      "['vipul', 'tarun', 'akhilesh', 'prabaht']\n",
      "['vipul', 'tarun', 'akhilesh', 'prabaht']\n"
     ]
    }
   ],
   "source": [
    "taru = [\"vipul\",\"tarun\",\"akhilesh\",\"prabaht\"]\n",
    "for x in taru:\n",
    "    print(taru)"
   ]
  },
  {
   "cell_type": "code",
   "execution_count": 15,
   "id": "9b405875-430f-442b-b3df-a7b0b602462e",
   "metadata": {},
   "outputs": [
    {
     "name": "stdout",
     "output_type": "stream",
     "text": [
      "['vipul', 'tarun', 'akhilesh', 'prabaht']\n",
      "vipul\n",
      "['vipul', 'tarun', 'akhilesh', 'prabaht']\n",
      "not fount\n",
      "['vipul', 'tarun', 'akhilesh', 'prabaht']\n",
      "not fount\n",
      "['vipul', 'tarun', 'akhilesh', 'prabaht']\n",
      "not fount\n"
     ]
    }
   ],
   "source": [
    "taru = [\"vipul\",\"tarun\",\"akhilesh\",\"prabaht\"]\n",
    "for x in taru:\n",
    "    print(taru)\n",
    "    if (x==\"vipul\"):\n",
    "        print(x)\n",
    "    else:\n",
    "        print(\"not fount\")"
   ]
  },
  {
   "cell_type": "code",
   "execution_count": 19,
   "id": "1c9a0653-63d2-4ad7-985c-098694ff4e09",
   "metadata": {},
   "outputs": [
    {
     "name": "stdout",
     "output_type": "stream",
     "text": [
      "['vipul', 'tarun', 'akhilesh', 'prabaht']\n",
      "['vipul', 'tarun', 'akhilesh', 'prabaht']\n",
      "['vipul', 'tarun', 'akhilesh', 'prabaht']\n",
      "['vipul', 'tarun', 'akhilesh', 'prabaht']\n"
     ]
    }
   ],
   "source": [
    "taru = [\"vipul\",\"tarun\",\"akhilesh\",\"prabaht\"]\n",
    "i=0\n",
    "while i<len(taru):\n",
    "    print(taru)\n",
    "    i+=1"
   ]
  },
  {
   "cell_type": "code",
   "execution_count": 1,
   "id": "34af55f0-aa26-412c-82b7-e907b5dc4ef1",
   "metadata": {},
   "outputs": [
    {
     "name": "stdout",
     "output_type": "stream",
     "text": [
      "['vipul', 'tarun', 'akhilesh']\n"
     ]
    }
   ],
   "source": [
    "taru = [\"vipul\",\"tarun\",\"akhilesh\",\"prabaht\"]\n",
    "taru.pop()\n",
    "print(taru)"
   ]
  },
  {
   "cell_type": "code",
   "execution_count": 10,
   "id": "e5479ecb-b8cf-4575-8b55-c843def5a6a4",
   "metadata": {},
   "outputs": [
    {
     "name": "stdout",
     "output_type": "stream",
     "text": [
      "[50, 65, 23, 82, 100]\n"
     ]
    }
   ],
   "source": [
    "def myfunc(n):\n",
    "    return abs(n-50)\n",
    "list1=[100,50,65,82,23]\n",
    "list1.sort(key = myfunc)\n",
    "print(list1)"
   ]
  },
  {
   "cell_type": "code",
   "execution_count": 11,
   "id": "06105cf2-3fe3-468e-932b-9c74670ebe32",
   "metadata": {},
   "outputs": [
    {
     "data": {
      "text/plain": [
       "'using pythone data structures creat a dircteri consisting of employee details \\n(id , name , job role , joining date,salary) and perform the following operation\\n1 add 5 emplooye to directory\\n2 check the siniur most emolyee from directory\\n3 add a new employee to the directory \\n4 remove a employee from the directory\\n5 short the employee\\n6with the help of duction disply full name (pree fix , first name , last name)\\nlist employee whos salary is aboue 80,0000\\n'"
      ]
     },
     "execution_count": 11,
     "metadata": {},
     "output_type": "execute_result"
    }
   ],
   "source": [
    "\"\"\"using pythone data structures creat a dircteri consisting of employee details \n",
    "    (id , name , job role , joining date,salary) and perform the following operation\n",
    "1 add 5 emplooye to directory\n",
    "2 check the siniur most emolyee from directory using math function()\n",
    "3 add a new employee to the directory \n",
    "4 remove a employee from the directory\n",
    "5 short the employee\n",
    "6 with the help of duction disply full name (pree fix , first name , last name)\n",
    "7 list employee whos salary is aboue 80,0000\n",
    "\"\"\""
   ]
  },
  {
   "cell_type": "code",
   "execution_count": 13,
   "id": "de7f5c7c-6973-446a-991f-9aa8c72e5437",
   "metadata": {},
   "outputs": [
    {
     "ename": "SyntaxError",
     "evalue": "invalid syntax (3766781109.py, line 1)",
     "output_type": "error",
     "traceback": [
      "\u001b[1;36m  File \u001b[1;32m\"C:\\Users\\corporate\\AppData\\Local\\Temp\\ipykernel_5392\\3766781109.py\"\u001b[1;36m, line \u001b[1;32m1\u001b[0m\n\u001b[1;33m    Employee{\"id\":\"23\",\u001b[0m\n\u001b[1;37m            ^\u001b[0m\n\u001b[1;31mSyntaxError\u001b[0m\u001b[1;31m:\u001b[0m invalid syntax\n"
     ]
    }
   ],
   "source": [
    "Employee{\"id\":\"23\",\n",
    "         \"name\":\"tarun\",\n",
    "        }"
   ]
  },
  {
   "cell_type": "code",
   "execution_count": 22,
   "id": "185a20e4-5ee9-4e58-9c75-b03d88e01926",
   "metadata": {},
   "outputs": [
    {
     "name": "stdout",
     "output_type": "stream",
     "text": [
      "the youngest child isEmil\n"
     ]
    }
   ],
   "source": [
    "def my_function(*kids):\n",
    "    print(\"the youngest child is\" +kids[0])\n",
    "my_function(\"Emil\",\"Tobias\",\"Linus\")\n"
   ]
  },
  {
   "cell_type": "code",
   "execution_count": 26,
   "id": "e4fe6949-0ab9-4d03-aaa8-494bb1359630",
   "metadata": {},
   "outputs": [
    {
     "name": "stdout",
     "output_type": "stream",
     "text": [
      "the lastname is Linus\n"
     ]
    }
   ],
   "source": [
    "def my_function(**kid):\n",
    "    print(\"the lastname is \" +kid[\"lname\"])\n",
    "my_function(fname=\"Tobias\",lname=\"Linus\")"
   ]
  },
  {
   "cell_type": "code",
   "execution_count": 31,
   "id": "cbc32c2c-de37-486a-8094-a18cc398aaab",
   "metadata": {},
   "outputs": [
    {
     "name": "stdout",
     "output_type": "stream",
     "text": [
      "\n",
      "\n",
      " recursion Example Results\n",
      "1\n",
      "3\n",
      "6\n",
      "10\n",
      "15\n"
     ]
    },
    {
     "data": {
      "text/plain": [
       "15"
      ]
     },
     "execution_count": 31,
     "metadata": {},
     "output_type": "execute_result"
    }
   ],
   "source": [
    "def try_recursion(k):\n",
    "    if(k>0):\n",
    "        result = k + try_recursion(k-1)\n",
    "        print(result)\n",
    "    else:\n",
    "        result = 0\n",
    "    return result\n",
    "print(\"\\n\\n recursion Example Results\")\n",
    "try_recursion(5)"
   ]
  },
  {
   "cell_type": "code",
   "execution_count": 1,
   "id": "c7975f0c-c32c-4a89-898e-4544002bd995",
   "metadata": {},
   "outputs": [
    {
     "data": {
      "text/plain": [
       "'\\n1.fibonaci using recursiton\\n2.\\n'"
      ]
     },
     "execution_count": 1,
     "metadata": {},
     "output_type": "execute_result"
    }
   ],
   "source": [
    "\"\"\"\n",
    "1.fibonaci using recursiton\n",
    "2.\n",
    "\"\"\""
   ]
  },
  {
   "cell_type": "code",
   "execution_count": 4,
   "id": "b589bdcb-9824-4773-a1e1-0914244cb439",
   "metadata": {},
   "outputs": [
    {
     "name": "stdout",
     "output_type": "stream",
     "text": [
      "5\n"
     ]
    }
   ],
   "source": [
    "class classname:\n",
    "    x=5\n",
    "p1=classname()\n",
    "print(p1.x)"
   ]
  },
  {
   "cell_type": "code",
   "execution_count": 12,
   "id": "567ee7ee-a004-4dbf-beeb-d9a1e30ab699",
   "metadata": {},
   "outputs": [
    {
     "name": "stdout",
     "output_type": "stream",
     "text": [
      "Tarun\n",
      "30\n"
     ]
    }
   ],
   "source": [
    "class Hi:\n",
    "    def __init__(se,name,age):\n",
    "        se.name=name\n",
    "        se.age=age\n",
    "        \n",
    "p1=Hi(\"Tarun\",30) #instance or object\n",
    "\n",
    "print(p1.name)\n",
    "print(p1.age)"
   ]
  },
  {
   "cell_type": "code",
   "execution_count": 33,
   "id": "63306218-751f-442d-8846-c9cc49a8edd3",
   "metadata": {},
   "outputs": [
    {
     "name": "stdout",
     "output_type": "stream",
     "text": [
      "Tarun[30]\n"
     ]
    }
   ],
   "source": [
    "class Hi:\n",
    "    def __init__(se,name,age):\n",
    "        se.name=name\n",
    "        se.age=age\n",
    "#print(p1)\n",
    "\n",
    "    def __str__(se):\n",
    "        return f\"{se.name}[{se.age}]\"\n",
    "p1=Hi(\"Tarun\",30)\n",
    "print(p1)"
   ]
  },
  {
   "cell_type": "code",
   "execution_count": 39,
   "id": "b614d9b7-8f20-4d35-a612-04de90d96cb9",
   "metadata": {},
   "outputs": [
    {
     "name": "stdout",
     "output_type": "stream",
     "text": [
      "Hello my name is Tarun\n"
     ]
    }
   ],
   "source": [
    "class Hi:\n",
    "    def __init__(se,name,age):\n",
    "        se.name=name\n",
    "        se.age=age\n",
    "\n",
    "\n",
    "    def myfunc(se):\n",
    "      \n",
    "        print(\"Hello my name is \" + se.name)\n",
    "\n",
    "p1=Hi(\"Tarun\",30)\n",
    "p1.myfunc()"
   ]
  },
  {
   "cell_type": "code",
   "execution_count": 50,
   "id": "05d5f904-740c-41b7-a417-fc26c2606545",
   "metadata": {},
   "outputs": [
    {
     "ename": "AttributeError",
     "evalue": "'Hi' object has no attribute 'age'",
     "output_type": "error",
     "traceback": [
      "\u001b[1;31m---------------------------------------------------------------------------\u001b[0m",
      "\u001b[1;31mAttributeError\u001b[0m                            Traceback (most recent call last)",
      "\u001b[1;32m~\\AppData\\Local\\Temp\\ipykernel_5804\\641163832.py\u001b[0m in \u001b[0;36m<module>\u001b[1;34m\u001b[0m\n\u001b[0;32m     12\u001b[0m \u001b[1;32mdel\u001b[0m \u001b[0mp1\u001b[0m\u001b[1;33m.\u001b[0m\u001b[0mage\u001b[0m\u001b[1;33m\u001b[0m\u001b[1;33m\u001b[0m\u001b[0m\n\u001b[0;32m     13\u001b[0m \u001b[1;33m\u001b[0m\u001b[0m\n\u001b[1;32m---> 14\u001b[1;33m \u001b[0mprint\u001b[0m\u001b[1;33m(\u001b[0m\u001b[0mp1\u001b[0m\u001b[1;33m.\u001b[0m\u001b[0mage\u001b[0m\u001b[1;33m)\u001b[0m\u001b[1;33m\u001b[0m\u001b[1;33m\u001b[0m\u001b[0m\n\u001b[0m",
      "\u001b[1;31mAttributeError\u001b[0m: 'Hi' object has no attribute 'age'"
     ]
    }
   ],
   "source": [
    "class Hi:\n",
    "    def __init__(se,name,age):\n",
    "        se.name=name\n",
    "        se.age=age\n",
    "\n",
    "    def myfunc(se):\n",
    "      \n",
    "        print(\"Hello my name is \" + se.name)\n",
    "\n",
    "p1=Hi(\"Tarun\",30)\n",
    "#p1.age=40\n",
    "del p1.age\n",
    "\n",
    "print(p1.age)"
   ]
  },
  {
   "cell_type": "code",
   "execution_count": 57,
   "id": "a9b234b5-5bc9-4336-985c-ee9f919dbfe3",
   "metadata": {},
   "outputs": [
    {
     "name": "stdout",
     "output_type": "stream",
     "text": [
      "no x value\n"
     ]
    }
   ],
   "source": [
    "try:\n",
    "    print(x)\n",
    "except:\n",
    "    print(\"no x value\")\n"
   ]
  },
  {
   "cell_type": "code",
   "execution_count": 72,
   "id": "0afff4a2-e9ee-4522-8f23-5f04cc198772",
   "metadata": {},
   "outputs": [
    {
     "ename": "IndentationError",
     "evalue": "expected an indented block (2693721557.py, line 8)",
     "output_type": "error",
     "traceback": [
      "\u001b[1;36m  File \u001b[1;32m\"C:\\Users\\corporate\\AppData\\Local\\Temp\\ipykernel_5804\\2693721557.py\"\u001b[1;36m, line \u001b[1;32m8\u001b[0m\n\u001b[1;33m    # print(\"nothing went wrong\")\u001b[0m\n\u001b[1;37m                                 ^\u001b[0m\n\u001b[1;31mIndentationError\u001b[0m\u001b[1;31m:\u001b[0m expected an indented block\n"
     ]
    }
   ],
   "source": [
    "try:\n",
    "    print(x)\n",
    "except nameError:\n",
    "    print(\"variable x is not defined\")\n",
    "except:\n",
    "    print(\"something else went wrong\")\n",
    "else:\n",
    "    # print(\"nothing went wrong\")"
   ]
  },
  {
   "cell_type": "code",
   "execution_count": 70,
   "id": "db837c7e-9d83-4df2-b2ea-09c98d31d26f",
   "metadata": {},
   "outputs": [
    {
     "name": "stdout",
     "output_type": "stream",
     "text": [
      "hello\n",
      "nothing went wrong\n"
     ]
    }
   ],
   "source": [
    "try:\n",
    "    print(\"hello\")\n",
    "except:\n",
    "    print(\"something went wrong\")\n",
    "else:\n",
    "    print(\"nothing went wrong\")"
   ]
  }
 ],
 "metadata": {
  "kernelspec": {
   "display_name": "Python 3 (ipykernel)",
   "language": "python",
   "name": "python3"
  },
  "language_info": {
   "codemirror_mode": {
    "name": "ipython",
    "version": 3
   },
   "file_extension": ".py",
   "mimetype": "text/x-python",
   "name": "python",
   "nbconvert_exporter": "python",
   "pygments_lexer": "ipython3",
   "version": "3.9.13"
  }
 },
 "nbformat": 4,
 "nbformat_minor": 5
}
