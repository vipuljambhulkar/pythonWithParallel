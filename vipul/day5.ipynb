{
 "cells": [
  {
   "cell_type": "markdown",
   "id": "31943c7f-66af-49a7-b7fd-ccf312bf149a",
   "metadata": {},
   "source": [
    "\"\"\"consider wairhouse inverntry system .\n",
    "    1 creat an array consisting of product code and corresponding conttity\n",
    "    2 determine the dimention of the inventry array\n",
    "    3 given a product code search throuth thr array to find the conttity of the product\n",
    "    4 spilt the array to 2 arrays \n",
    "    5 retrive the contity using array index \n",
    "    6 check the shape of the inventry array\n",
    "    7 reshape the invertary arry into 2d array\n",
    "    8 creat a copy of the inventry array\n",
    "    9 add new itoms to the iventry\n",
    "\"\"\""
   ]
  },
  {
   "cell_type": "code",
   "execution_count": 36,
   "id": "1a3e5a4f-08f9-41ae-8aee-c65708ed73c7",
   "metadata": {},
   "outputs": [
    {
     "name": "stdout",
     "output_type": "stream",
     "text": [
      "vipul jambhulkar\n"
     ]
    }
   ],
   "source": [
    "class student(person):\n",
    "    pass\n",
    "class person:\n",
    "    def __init__(self,fname,iname):\n",
    "        self.firstname = fname\n",
    "        self.lastname = iname\n",
    "\n",
    "    def printname(self):\n",
    "        print(self.firstname,self.lastname)\n",
    "        #pass\n",
    "\n",
    "x=student(\"vipul\",\"jambhulkar\")\n",
    "x.printname()"
   ]
  },
  {
   "cell_type": "markdown",
   "id": "32010cd0-2c61-41fd-9e29-bbf5aa69dba7",
   "metadata": {},
   "source": [
    "creat the object of perrent class and initailaize the value "
   ]
  },
  {
   "cell_type": "code",
   "execution_count": 13,
   "id": "292dab1d-c770-4e67-862e-9686b653de75",
   "metadata": {},
   "outputs": [
    {
     "name": "stdout",
     "output_type": "stream",
     "text": [
      "{1, 5, 6}\n",
      "{'hello', 'goo', 'by', 'hii', 'gaya'}\n",
      "{True, 3, 'goo', 'by', 'hello', 'Friday', 'hii', 'gaya'}\n",
      "False\n"
     ]
    }
   ],
   "source": [
    "myset={1,5,6,}\n",
    "myset1={\"hii\",\"hello\",\"by\",\"goo\",\"gaya\"}\n",
    "myset2={\"hii\",\"hello\",3,True,False}\n",
    "myset2.add(\"Friday\")\n",
    "myset2.update(myset1)\n",
    "#myset2.remove(\"banana\")\n",
    "myset2.discard(\"bannana\")\n",
    "x=myset2.pop()\n",
    "print(myset)\n",
    "print(myset1)\n",
    "print(myset2)\n",
    "print(x)"
   ]
  },
  {
   "cell_type": "code",
   "execution_count": 16,
   "id": "ee702071-4bf0-49d9-8f40-202711c470b6",
   "metadata": {},
   "outputs": [
    {
     "ename": "ModuleNotFoundError",
     "evalue": "No module named 'CamelCase'",
     "output_type": "error",
     "traceback": [
      "\u001b[1;31m---------------------------------------------------------------------------\u001b[0m",
      "\u001b[1;31mModuleNotFoundError\u001b[0m                       Traceback (most recent call last)",
      "\u001b[1;32m~\\AppData\\Local\\Temp\\ipykernel_7396\\1752892675.py\u001b[0m in \u001b[0;36m<module>\u001b[1;34m\u001b[0m\n\u001b[1;32m----> 1\u001b[1;33m \u001b[1;32mimport\u001b[0m \u001b[0mCamelCase\u001b[0m\u001b[1;33m\u001b[0m\u001b[1;33m\u001b[0m\u001b[0m\n\u001b[0m\u001b[0;32m      2\u001b[0m \u001b[0mc\u001b[0m\u001b[1;33m=\u001b[0m\u001b[0mcamelcase\u001b[0m\u001b[1;33m.\u001b[0m\u001b[0mCameCase\u001b[0m\u001b[1;33m(\u001b[0m\u001b[1;33m)\u001b[0m\u001b[1;33m\u001b[0m\u001b[1;33m\u001b[0m\u001b[0m\n\u001b[0;32m      3\u001b[0m \u001b[0mtxt\u001b[0m\u001b[1;33m=\u001b[0m\u001b[1;34m\"hello all,welcome to python\"\u001b[0m\u001b[1;33m\u001b[0m\u001b[1;33m\u001b[0m\u001b[0m\n\u001b[0;32m      4\u001b[0m \u001b[0mprint\u001b[0m\u001b[1;33m(\u001b[0m\u001b[0mc\u001b[0m\u001b[1;33m.\u001b[0m\u001b[0mhump\u001b[0m\u001b[1;33m(\u001b[0m\u001b[0mtxt\u001b[0m\u001b[1;33m)\u001b[0m\u001b[1;33m)\u001b[0m\u001b[1;33m\u001b[0m\u001b[1;33m\u001b[0m\u001b[0m\n",
      "\u001b[1;31mModuleNotFoundError\u001b[0m: No module named 'CamelCase'"
     ]
    }
   ],
   "source": [
    "import CamelCase\n",
    "c=camelcase.CameCase()\n",
    "txt=\"hello all,welcome to python\"\n",
    "print(c.hump(txt))"
   ]
  }
 ],
 "metadata": {
  "kernelspec": {
   "display_name": "Python 3 (ipykernel)",
   "language": "python",
   "name": "python3"
  },
  "language_info": {
   "codemirror_mode": {
    "name": "ipython",
    "version": 3
   },
   "file_extension": ".py",
   "mimetype": "text/x-python",
   "name": "python",
   "nbconvert_exporter": "python",
   "pygments_lexer": "ipython3",
   "version": "3.9.13"
  }
 },
 "nbformat": 4,
 "nbformat_minor": 5
}
